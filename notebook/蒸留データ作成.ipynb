{
 "cells": [
  {
   "cell_type": "code",
   "execution_count": 1,
   "id": "5d2842c8-c05e-4f0a-9154-fb171853712c",
   "metadata": {},
   "outputs": [
    {
     "name": "stdout",
     "output_type": "stream",
     "text": [
      "Downloading fb3-exp200-output.zip to /home/jupyter\n",
      "100%|██████████████████████████████████████▉| 4.26G/4.27G [00:55<00:00, 107MB/s]\n",
      "100%|██████████████████████████████████████| 4.27G/4.27G [00:55<00:00, 82.3MB/s]\n",
      "Downloading fb3-exp203-output.zip to /home/jupyter\n",
      "100%|██████████████████████████████████████▊| 4.25G/4.27G [00:42<00:00, 118MB/s]\n",
      "100%|███████████████████████████████████████| 4.27G/4.27G [00:42<00:00, 109MB/s]\n",
      "Downloading fb3-round-model.zip to /home/jupyter\n",
      "100%|█████████████████████████████████████▊| 4.51G/4.52G [01:00<00:00, 45.9MB/s]\n",
      "100%|██████████████████████████████████████| 4.52G/4.52G [01:01<00:00, 79.6MB/s]\n",
      "Downloading feedback-prize-effectiveness.zip to /home/jupyter\n",
      " 61%|███████████████████████▎              | 5.00M/8.13M [00:00<00:00, 42.7MB/s]\n",
      "100%|██████████████████████████████████████| 8.13M/8.13M [00:00<00:00, 63.3MB/s]\n"
     ]
    }
   ],
   "source": [
    "#!kaggle datasets download -d takamichitoda/fb3-exp200-output\n",
    "#!kaggle datasets download -d takamichitoda/fb3-exp203-output\n",
    "#!kaggle datasets download -d takamichitoda/fb3-round-model\n",
    "#!kaggle competitions download -c feedback-prize-effectiveness"
   ]
  },
  {
   "cell_type": "code",
   "execution_count": 7,
   "id": "7dc8a4d2-0145-422d-8932-7d73a3a81495",
   "metadata": {},
   "outputs": [],
   "source": [
    "#!mkdir fb3-exp200-output\n",
    "#!unzip fb3-exp200-output.zip -d fb3-exp200-output/\n",
    "#!rm -rf fb3-exp200-output.zip\n",
    "\n",
    "#!mkdir fb3-exp203-output\n",
    "#!unzip fb3-exp203-output.zip -d fb3-exp203-output/\n",
    "#!rm -rf fb3-exp203-output.zip\n",
    "\n",
    "#!mkdir fb3-round-model\n",
    "#!unzip fb3-round-model.zip -d fb3-round-model/\n",
    "#!rm -rf fb3-round-model.zip\n",
    "\n",
    "#!mkdir feedback-prize-effectiveness\n",
    "#!unzip feedback-prize-effectiveness.zip -d feedback-prize-effectiveness/\n",
    "#!rm -rf feedback-prize-effectiveness.zip"
   ]
  },
  {
   "cell_type": "code",
   "execution_count": 21,
   "id": "dfecbbec-e3a7-4ca4-bc95-d68fb72b84c8",
   "metadata": {},
   "outputs": [
    {
     "name": "stdout",
     "output_type": "stream",
     "text": [
      "env: TOKENIZERS_PARALLELISM=false\n"
     ]
    }
   ],
   "source": [
    "import gc\n",
    "import os\n",
    "import random\n",
    "import numpy as np\n",
    "import pandas as pd \n",
    "import warnings\n",
    "warnings.filterwarnings(\"ignore\")\n",
    "\n",
    "from tqdm.auto import tqdm\n",
    "\n",
    "import torch\n",
    "import torch.nn as nn\n",
    "from torch.utils.data import DataLoader, Dataset\n",
    "\n",
    "from transformers import AutoTokenizer, AutoModel, AutoConfig\n",
    "\n",
    "from transformers import DataCollatorWithPadding\n",
    "%env TOKENIZERS_PARALLELISM=false\n",
    "\n",
    "from iterstrat.ml_stratifiers import MultilabelStratifiedKFold\n",
    "\n",
    "device = torch.device('cuda' if torch.cuda.is_available() else 'cpu')"
   ]
  },
  {
   "cell_type": "code",
   "execution_count": 22,
   "id": "c0522d7a-3537-44d9-9e3e-1ab571509232",
   "metadata": {},
   "outputs": [
    {
     "name": "stderr",
     "output_type": "stream",
     "text": [
      "Special tokens have been added in the vocabulary, make sure the associated word embeddings are fine-tuned or trained.\n",
      "Special tokens have been added in the vocabulary, make sure the associated word embeddings are fine-tuned or trained.\n"
     ]
    }
   ],
   "source": [
    "class CFG:\n",
    "    BS = 1\n",
    "    OUTPUT = f\"/home/jupyter/distillation_data_v4/\"\n",
    "    \n",
    "    N_WORKERS = 0\n",
    "    CONFIG = './fb3-exp200-output/config.pth'\n",
    "    N_FOLD = 4\n",
    "    \n",
    "    ROUND_MODELS = [\n",
    "        {\n",
    "            \"max_len\": None,\n",
    "            \"tail\": False,\n",
    "            \"model_name\": \"microsoft/deberta-v3-base\",\n",
    "            \"model_type\": \"WLP\",\n",
    "            \"path\":[\n",
    "                f\"./fb3-round-model/microsoft-deberta-v3-base_seed0_fold{f}\" for f in range(4)\n",
    "            ]\n",
    "        },{\n",
    "            \"max_len\": None,\n",
    "            \"tail\": False,\n",
    "            \"model_name\": \"microsoft/deberta-v3-base\",\n",
    "            \"model_type\": \"normal\",\n",
    "            \"path\":[\n",
    "                f\"./fb3-exp200-output/microsoft-deberta-v3-base_seed0_fold{f}\" for f in range(4)\n",
    "            ]\n",
    "        },{\n",
    "            \"max_len\": None,\n",
    "            \"tail\": False,\n",
    "            \"model_name\": \"microsoft/deberta-v3-base\",\n",
    "            \"model_type\": \"normal\",\n",
    "            \"path\":[\n",
    "                f\"./fb3-exp203-output/microsoft-deberta-v3-base_seed0_fold{f}\" for f in range(4)\n",
    "            ]\n",
    "        },\n",
    "    ]\n",
    "    TARGETS = ['cohesion', 'syntax', 'vocabulary', 'phraseology', 'grammar', 'conventions']\n",
    "    SEED = 0\n",
    "    \n",
    "\n",
    "TOKENIZER = AutoTokenizer.from_pretrained(\"microsoft/deberta-v3-base\")\n",
    "\n",
    "#TOKENIZER.save_pretrained(CFG.OUTPUT+'/tokenizer/')\n",
    "CFG.TOKENIZER = TOKENIZER\n",
    "del TOKENIZER"
   ]
  },
  {
   "cell_type": "code",
   "execution_count": 23,
   "id": "0d5c4beb-5ae9-42aa-9f1a-12cbc74b2bfd",
   "metadata": {},
   "outputs": [],
   "source": [
    "def seed_everything(seed=42):\n",
    "    random.seed(seed)\n",
    "    os.environ['PYTHONHASHSEED'] = str(seed)\n",
    "    np.random.seed(seed)\n",
    "    torch.manual_seed(seed)\n",
    "    torch.cuda.manual_seed(seed)\n",
    "    torch.backends.cudnn.deterministic = True"
   ]
  },
  {
   "cell_type": "code",
   "execution_count": 24,
   "id": "93b9da3c-4c33-4e2a-b36e-bb998158166b",
   "metadata": {},
   "outputs": [
    {
     "data": {
      "text/html": [
       "<div>\n",
       "<style scoped>\n",
       "    .dataframe tbody tr th:only-of-type {\n",
       "        vertical-align: middle;\n",
       "    }\n",
       "\n",
       "    .dataframe tbody tr th {\n",
       "        vertical-align: top;\n",
       "    }\n",
       "\n",
       "    .dataframe thead th {\n",
       "        text-align: right;\n",
       "    }\n",
       "</style>\n",
       "<table border=\"1\" class=\"dataframe\">\n",
       "  <thead>\n",
       "    <tr style=\"text-align: right;\">\n",
       "      <th></th>\n",
       "      <th>text_id</th>\n",
       "      <th>full_text</th>\n",
       "      <th>cohesion</th>\n",
       "      <th>syntax</th>\n",
       "      <th>vocabulary</th>\n",
       "      <th>phraseology</th>\n",
       "      <th>grammar</th>\n",
       "      <th>conventions</th>\n",
       "      <th>fold</th>\n",
       "    </tr>\n",
       "  </thead>\n",
       "  <tbody>\n",
       "    <tr>\n",
       "      <th>0</th>\n",
       "      <td>0016926B079C</td>\n",
       "      <td>I think that students would benefit from learn...</td>\n",
       "      <td>3.5</td>\n",
       "      <td>3.5</td>\n",
       "      <td>3.0</td>\n",
       "      <td>3.0</td>\n",
       "      <td>4.0</td>\n",
       "      <td>3.0</td>\n",
       "      <td>2</td>\n",
       "    </tr>\n",
       "    <tr>\n",
       "      <th>1</th>\n",
       "      <td>0022683E9EA5</td>\n",
       "      <td>When a problem is a change you have to let it ...</td>\n",
       "      <td>2.5</td>\n",
       "      <td>2.5</td>\n",
       "      <td>3.0</td>\n",
       "      <td>2.0</td>\n",
       "      <td>2.0</td>\n",
       "      <td>2.5</td>\n",
       "      <td>3</td>\n",
       "    </tr>\n",
       "    <tr>\n",
       "      <th>2</th>\n",
       "      <td>00299B378633</td>\n",
       "      <td>Dear, Principal\\n\\nIf u change the school poli...</td>\n",
       "      <td>3.0</td>\n",
       "      <td>3.5</td>\n",
       "      <td>3.0</td>\n",
       "      <td>3.0</td>\n",
       "      <td>3.0</td>\n",
       "      <td>2.5</td>\n",
       "      <td>0</td>\n",
       "    </tr>\n",
       "    <tr>\n",
       "      <th>3</th>\n",
       "      <td>003885A45F42</td>\n",
       "      <td>The best time in life is when you become yours...</td>\n",
       "      <td>4.5</td>\n",
       "      <td>4.5</td>\n",
       "      <td>4.5</td>\n",
       "      <td>4.5</td>\n",
       "      <td>4.0</td>\n",
       "      <td>5.0</td>\n",
       "      <td>0</td>\n",
       "    </tr>\n",
       "    <tr>\n",
       "      <th>4</th>\n",
       "      <td>0049B1DF5CCC</td>\n",
       "      <td>Small act of kindness can impact in other peop...</td>\n",
       "      <td>2.5</td>\n",
       "      <td>3.0</td>\n",
       "      <td>3.0</td>\n",
       "      <td>3.0</td>\n",
       "      <td>2.5</td>\n",
       "      <td>2.5</td>\n",
       "      <td>2</td>\n",
       "    </tr>\n",
       "  </tbody>\n",
       "</table>\n",
       "</div>"
      ],
      "text/plain": [
       "        text_id                                          full_text  cohesion  \\\n",
       "0  0016926B079C  I think that students would benefit from learn...       3.5   \n",
       "1  0022683E9EA5  When a problem is a change you have to let it ...       2.5   \n",
       "2  00299B378633  Dear, Principal\\n\\nIf u change the school poli...       3.0   \n",
       "3  003885A45F42  The best time in life is when you become yours...       4.5   \n",
       "4  0049B1DF5CCC  Small act of kindness can impact in other peop...       2.5   \n",
       "\n",
       "   syntax  vocabulary  phraseology  grammar  conventions  fold  \n",
       "0     3.5         3.0          3.0      4.0          3.0     2  \n",
       "1     2.5         3.0          2.0      2.0          2.5     3  \n",
       "2     3.5         3.0          3.0      3.0          2.5     0  \n",
       "3     4.5         4.5          4.5      4.0          5.0     0  \n",
       "4     3.0         3.0          3.0      2.5          2.5     2  "
      ]
     },
     "execution_count": 24,
     "metadata": {},
     "output_type": "execute_result"
    }
   ],
   "source": [
    "train_df = pd.read_csv(f\"./feedback-prize-english-language-learning/train.csv\")\n",
    "\n",
    "cv = MultilabelStratifiedKFold(n_splits=CFG.N_FOLD, shuffle=True, random_state=CFG.SEED)\n",
    "for n, (train_index, valid_index) in enumerate(cv.split(train_df, train_df[CFG.TARGETS])):\n",
    "    train_df.loc[valid_index, 'fold'] = int(n)\n",
    "train_df['fold'] = train_df['fold'].astype(int)\n",
    "\n",
    "train_df.head()"
   ]
  },
  {
   "cell_type": "code",
   "execution_count": 26,
   "id": "1ee5e8ef-b167-46ff-8a4a-9e456d2f634d",
   "metadata": {},
   "outputs": [
    {
     "data": {
      "text/html": [
       "<div>\n",
       "<style scoped>\n",
       "    .dataframe tbody tr th:only-of-type {\n",
       "        vertical-align: middle;\n",
       "    }\n",
       "\n",
       "    .dataframe tbody tr th {\n",
       "        vertical-align: top;\n",
       "    }\n",
       "\n",
       "    .dataframe thead th {\n",
       "        text-align: right;\n",
       "    }\n",
       "</style>\n",
       "<table border=\"1\" class=\"dataframe\">\n",
       "  <thead>\n",
       "    <tr style=\"text-align: right;\">\n",
       "      <th></th>\n",
       "      <th>discourse_id</th>\n",
       "      <th>essay_id</th>\n",
       "      <th>discourse_text</th>\n",
       "      <th>discourse_type</th>\n",
       "      <th>discourse_effectiveness</th>\n",
       "    </tr>\n",
       "  </thead>\n",
       "  <tbody>\n",
       "    <tr>\n",
       "      <th>0</th>\n",
       "      <td>0013cc385424</td>\n",
       "      <td>007ACE74B050</td>\n",
       "      <td>Hi, i'm Isaac, i'm going to be writing about h...</td>\n",
       "      <td>Lead</td>\n",
       "      <td>Adequate</td>\n",
       "    </tr>\n",
       "    <tr>\n",
       "      <th>1</th>\n",
       "      <td>9704a709b505</td>\n",
       "      <td>007ACE74B050</td>\n",
       "      <td>On my perspective, I think that the face is a ...</td>\n",
       "      <td>Position</td>\n",
       "      <td>Adequate</td>\n",
       "    </tr>\n",
       "    <tr>\n",
       "      <th>2</th>\n",
       "      <td>c22adee811b6</td>\n",
       "      <td>007ACE74B050</td>\n",
       "      <td>I think that the face is a natural landform be...</td>\n",
       "      <td>Claim</td>\n",
       "      <td>Adequate</td>\n",
       "    </tr>\n",
       "    <tr>\n",
       "      <th>3</th>\n",
       "      <td>a10d361e54e4</td>\n",
       "      <td>007ACE74B050</td>\n",
       "      <td>If life was on Mars, we would know by now. The...</td>\n",
       "      <td>Evidence</td>\n",
       "      <td>Adequate</td>\n",
       "    </tr>\n",
       "    <tr>\n",
       "      <th>4</th>\n",
       "      <td>db3e453ec4e2</td>\n",
       "      <td>007ACE74B050</td>\n",
       "      <td>People thought that the face was formed by ali...</td>\n",
       "      <td>Counterclaim</td>\n",
       "      <td>Adequate</td>\n",
       "    </tr>\n",
       "  </tbody>\n",
       "</table>\n",
       "</div>"
      ],
      "text/plain": [
       "   discourse_id      essay_id  \\\n",
       "0  0013cc385424  007ACE74B050   \n",
       "1  9704a709b505  007ACE74B050   \n",
       "2  c22adee811b6  007ACE74B050   \n",
       "3  a10d361e54e4  007ACE74B050   \n",
       "4  db3e453ec4e2  007ACE74B050   \n",
       "\n",
       "                                      discourse_text discourse_type  \\\n",
       "0  Hi, i'm Isaac, i'm going to be writing about h...           Lead   \n",
       "1  On my perspective, I think that the face is a ...       Position   \n",
       "2  I think that the face is a natural landform be...          Claim   \n",
       "3  If life was on Mars, we would know by now. The...       Evidence   \n",
       "4  People thought that the face was formed by ali...   Counterclaim   \n",
       "\n",
       "  discourse_effectiveness  \n",
       "0                Adequate  \n",
       "1                Adequate  \n",
       "2                Adequate  \n",
       "3                Adequate  \n",
       "4                Adequate  "
      ]
     },
     "metadata": {},
     "output_type": "display_data"
    },
    {
     "data": {
      "text/html": [
       "<div>\n",
       "<style scoped>\n",
       "    .dataframe tbody tr th:only-of-type {\n",
       "        vertical-align: middle;\n",
       "    }\n",
       "\n",
       "    .dataframe tbody tr th {\n",
       "        vertical-align: top;\n",
       "    }\n",
       "\n",
       "    .dataframe thead th {\n",
       "        text-align: right;\n",
       "    }\n",
       "</style>\n",
       "<table border=\"1\" class=\"dataframe\">\n",
       "  <thead>\n",
       "    <tr style=\"text-align: right;\">\n",
       "      <th></th>\n",
       "      <th>text_id</th>\n",
       "      <th>full_text</th>\n",
       "      <th>cohesion</th>\n",
       "      <th>syntax</th>\n",
       "      <th>vocabulary</th>\n",
       "      <th>phraseology</th>\n",
       "      <th>grammar</th>\n",
       "      <th>conventions</th>\n",
       "    </tr>\n",
       "  </thead>\n",
       "  <tbody>\n",
       "    <tr>\n",
       "      <th>0</th>\n",
       "      <td>301D48946CB9</td>\n",
       "      <td>Can you really trust a car to take you from po...</td>\n",
       "      <td>0</td>\n",
       "      <td>0</td>\n",
       "      <td>0</td>\n",
       "      <td>0</td>\n",
       "      <td>0</td>\n",
       "      <td>0</td>\n",
       "    </tr>\n",
       "    <tr>\n",
       "      <th>1</th>\n",
       "      <td>13BD2F675384</td>\n",
       "      <td>Dear Principle,\\n\\nAllow students to have phon...</td>\n",
       "      <td>0</td>\n",
       "      <td>0</td>\n",
       "      <td>0</td>\n",
       "      <td>0</td>\n",
       "      <td>0</td>\n",
       "      <td>0</td>\n",
       "    </tr>\n",
       "    <tr>\n",
       "      <th>2</th>\n",
       "      <td>D4E3104E7591</td>\n",
       "      <td>To assure students are continuing to learn ove...</td>\n",
       "      <td>0</td>\n",
       "      <td>0</td>\n",
       "      <td>0</td>\n",
       "      <td>0</td>\n",
       "      <td>0</td>\n",
       "      <td>0</td>\n",
       "    </tr>\n",
       "    <tr>\n",
       "      <th>3</th>\n",
       "      <td>24BCEBE0EEF1</td>\n",
       "      <td>I believe that the school cell phone policy sh...</td>\n",
       "      <td>0</td>\n",
       "      <td>0</td>\n",
       "      <td>0</td>\n",
       "      <td>0</td>\n",
       "      <td>0</td>\n",
       "      <td>0</td>\n",
       "    </tr>\n",
       "    <tr>\n",
       "      <th>4</th>\n",
       "      <td>B568E9BC99FD</td>\n",
       "      <td>Dear state senetor i am writing this letter to...</td>\n",
       "      <td>0</td>\n",
       "      <td>0</td>\n",
       "      <td>0</td>\n",
       "      <td>0</td>\n",
       "      <td>0</td>\n",
       "      <td>0</td>\n",
       "    </tr>\n",
       "  </tbody>\n",
       "</table>\n",
       "</div>"
      ],
      "text/plain": [
       "        text_id                                          full_text  cohesion  \\\n",
       "0  301D48946CB9  Can you really trust a car to take you from po...         0   \n",
       "1  13BD2F675384  Dear Principle,\\n\\nAllow students to have phon...         0   \n",
       "2  D4E3104E7591  To assure students are continuing to learn ove...         0   \n",
       "3  24BCEBE0EEF1  I believe that the school cell phone policy sh...         0   \n",
       "4  B568E9BC99FD  Dear state senetor i am writing this letter to...         0   \n",
       "\n",
       "   syntax  vocabulary  phraseology  grammar  conventions  \n",
       "0       0           0            0        0            0  \n",
       "1       0           0            0        0            0  \n",
       "2       0           0            0        0            0  \n",
       "3       0           0            0        0            0  \n",
       "4       0           0            0        0            0  "
      ]
     },
     "execution_count": 26,
     "metadata": {},
     "output_type": "execute_result"
    }
   ],
   "source": [
    "fb1 = pd.read_csv(f\"./feedback-prize-effectiveness/train.csv\")\n",
    "display(fb1.head())\n",
    "\n",
    "unlabel_lst = []\n",
    "fb1_only_ids = set(fb1['essay_id']) - set(train_df['text_id'])\n",
    "for _id in fb1_only_ids:\n",
    "    lst = []\n",
    "    with open(f\"./feedback-prize-effectiveness/train/{_id}.txt\", 'r') as f:\n",
    "        for line in f:\n",
    "            line = line.rstrip()\n",
    "            lst.append(line)\n",
    "    text = \"\\n\".join(lst)\n",
    "    d = (_id, text, 0, 0, 0, 0, 0, 0)\n",
    "    unlabel_lst.append(d)\n",
    "    \n",
    "unlabel_df = pd.DataFrame(unlabel_lst, columns=['text_id', 'full_text']+CFG.TARGETS)\n",
    "del unlabel_lst, lst, d, text, _id, fb1_only_ids, fb1\n",
    "unlabel_df.head()"
   ]
  },
  {
   "cell_type": "code",
   "execution_count": 27,
   "id": "210fb9e6-c806-46f3-b3f0-0d5153e11fe5",
   "metadata": {},
   "outputs": [
    {
     "data": {
      "text/html": [
       "<div>\n",
       "<style scoped>\n",
       "    .dataframe tbody tr th:only-of-type {\n",
       "        vertical-align: middle;\n",
       "    }\n",
       "\n",
       "    .dataframe tbody tr th {\n",
       "        vertical-align: top;\n",
       "    }\n",
       "\n",
       "    .dataframe thead th {\n",
       "        text-align: right;\n",
       "    }\n",
       "</style>\n",
       "<table border=\"1\" class=\"dataframe\">\n",
       "  <thead>\n",
       "    <tr style=\"text-align: right;\">\n",
       "      <th></th>\n",
       "      <th>text_id</th>\n",
       "      <th>full_text</th>\n",
       "      <th>cohesion</th>\n",
       "      <th>syntax</th>\n",
       "      <th>vocabulary</th>\n",
       "      <th>phraseology</th>\n",
       "      <th>grammar</th>\n",
       "      <th>conventions</th>\n",
       "      <th>fold</th>\n",
       "      <th>origin</th>\n",
       "    </tr>\n",
       "  </thead>\n",
       "  <tbody>\n",
       "    <tr>\n",
       "      <th>0</th>\n",
       "      <td>0016926B079C</td>\n",
       "      <td>I think that students would benefit from learn...</td>\n",
       "      <td>3.5</td>\n",
       "      <td>3.5</td>\n",
       "      <td>3.0</td>\n",
       "      <td>3.0</td>\n",
       "      <td>4.0</td>\n",
       "      <td>3.0</td>\n",
       "      <td>2</td>\n",
       "      <td>True</td>\n",
       "    </tr>\n",
       "    <tr>\n",
       "      <th>1</th>\n",
       "      <td>0022683E9EA5</td>\n",
       "      <td>When a problem is a change you have to let it ...</td>\n",
       "      <td>2.5</td>\n",
       "      <td>2.5</td>\n",
       "      <td>3.0</td>\n",
       "      <td>2.0</td>\n",
       "      <td>2.0</td>\n",
       "      <td>2.5</td>\n",
       "      <td>3</td>\n",
       "      <td>True</td>\n",
       "    </tr>\n",
       "    <tr>\n",
       "      <th>2</th>\n",
       "      <td>00299B378633</td>\n",
       "      <td>Dear, Principal\\n\\nIf u change the school poli...</td>\n",
       "      <td>3.0</td>\n",
       "      <td>3.5</td>\n",
       "      <td>3.0</td>\n",
       "      <td>3.0</td>\n",
       "      <td>3.0</td>\n",
       "      <td>2.5</td>\n",
       "      <td>0</td>\n",
       "      <td>True</td>\n",
       "    </tr>\n",
       "    <tr>\n",
       "      <th>3</th>\n",
       "      <td>003885A45F42</td>\n",
       "      <td>The best time in life is when you become yours...</td>\n",
       "      <td>4.5</td>\n",
       "      <td>4.5</td>\n",
       "      <td>4.5</td>\n",
       "      <td>4.5</td>\n",
       "      <td>4.0</td>\n",
       "      <td>5.0</td>\n",
       "      <td>0</td>\n",
       "      <td>True</td>\n",
       "    </tr>\n",
       "    <tr>\n",
       "      <th>4</th>\n",
       "      <td>0049B1DF5CCC</td>\n",
       "      <td>Small act of kindness can impact in other peop...</td>\n",
       "      <td>2.5</td>\n",
       "      <td>3.0</td>\n",
       "      <td>3.0</td>\n",
       "      <td>3.0</td>\n",
       "      <td>2.5</td>\n",
       "      <td>2.5</td>\n",
       "      <td>2</td>\n",
       "      <td>True</td>\n",
       "    </tr>\n",
       "    <tr>\n",
       "      <th>...</th>\n",
       "      <td>...</td>\n",
       "      <td>...</td>\n",
       "      <td>...</td>\n",
       "      <td>...</td>\n",
       "      <td>...</td>\n",
       "      <td>...</td>\n",
       "      <td>...</td>\n",
       "      <td>...</td>\n",
       "      <td>...</td>\n",
       "      <td>...</td>\n",
       "    </tr>\n",
       "    <tr>\n",
       "      <th>4068</th>\n",
       "      <td>B7C17E1993BA</td>\n",
       "      <td>Does the Electoral College work?\\n\\nThe Electo...</td>\n",
       "      <td>0.0</td>\n",
       "      <td>0.0</td>\n",
       "      <td>0.0</td>\n",
       "      <td>0.0</td>\n",
       "      <td>0.0</td>\n",
       "      <td>0.0</td>\n",
       "      <td>-1</td>\n",
       "      <td>False</td>\n",
       "    </tr>\n",
       "    <tr>\n",
       "      <th>4069</th>\n",
       "      <td>030F2D5F039D</td>\n",
       "      <td>Yes, the use of this technology to read the em...</td>\n",
       "      <td>0.0</td>\n",
       "      <td>0.0</td>\n",
       "      <td>0.0</td>\n",
       "      <td>0.0</td>\n",
       "      <td>0.0</td>\n",
       "      <td>0.0</td>\n",
       "      <td>-1</td>\n",
       "      <td>False</td>\n",
       "    </tr>\n",
       "    <tr>\n",
       "      <th>4070</th>\n",
       "      <td>20E41EFD4FB8</td>\n",
       "      <td>The author does a very good job of proving his...</td>\n",
       "      <td>0.0</td>\n",
       "      <td>0.0</td>\n",
       "      <td>0.0</td>\n",
       "      <td>0.0</td>\n",
       "      <td>0.0</td>\n",
       "      <td>0.0</td>\n",
       "      <td>-1</td>\n",
       "      <td>False</td>\n",
       "    </tr>\n",
       "    <tr>\n",
       "      <th>4071</th>\n",
       "      <td>D1B97A55865A</td>\n",
       "      <td>Dear TEACHER_NAME,\\n\\nI think students should ...</td>\n",
       "      <td>0.0</td>\n",
       "      <td>0.0</td>\n",
       "      <td>0.0</td>\n",
       "      <td>0.0</td>\n",
       "      <td>0.0</td>\n",
       "      <td>0.0</td>\n",
       "      <td>-1</td>\n",
       "      <td>False</td>\n",
       "    </tr>\n",
       "    <tr>\n",
       "      <th>4072</th>\n",
       "      <td>C02B1D9A374B</td>\n",
       "      <td>Sometimes school can be to much for a person. ...</td>\n",
       "      <td>0.0</td>\n",
       "      <td>0.0</td>\n",
       "      <td>0.0</td>\n",
       "      <td>0.0</td>\n",
       "      <td>0.0</td>\n",
       "      <td>0.0</td>\n",
       "      <td>-1</td>\n",
       "      <td>False</td>\n",
       "    </tr>\n",
       "  </tbody>\n",
       "</table>\n",
       "<p>7984 rows × 10 columns</p>\n",
       "</div>"
      ],
      "text/plain": [
       "           text_id                                          full_text  \\\n",
       "0     0016926B079C  I think that students would benefit from learn...   \n",
       "1     0022683E9EA5  When a problem is a change you have to let it ...   \n",
       "2     00299B378633  Dear, Principal\\n\\nIf u change the school poli...   \n",
       "3     003885A45F42  The best time in life is when you become yours...   \n",
       "4     0049B1DF5CCC  Small act of kindness can impact in other peop...   \n",
       "...            ...                                                ...   \n",
       "4068  B7C17E1993BA  Does the Electoral College work?\\n\\nThe Electo...   \n",
       "4069  030F2D5F039D  Yes, the use of this technology to read the em...   \n",
       "4070  20E41EFD4FB8  The author does a very good job of proving his...   \n",
       "4071  D1B97A55865A  Dear TEACHER_NAME,\\n\\nI think students should ...   \n",
       "4072  C02B1D9A374B  Sometimes school can be to much for a person. ...   \n",
       "\n",
       "      cohesion  syntax  vocabulary  phraseology  grammar  conventions  fold  \\\n",
       "0          3.5     3.5         3.0          3.0      4.0          3.0     2   \n",
       "1          2.5     2.5         3.0          2.0      2.0          2.5     3   \n",
       "2          3.0     3.5         3.0          3.0      3.0          2.5     0   \n",
       "3          4.5     4.5         4.5          4.5      4.0          5.0     0   \n",
       "4          2.5     3.0         3.0          3.0      2.5          2.5     2   \n",
       "...        ...     ...         ...          ...      ...          ...   ...   \n",
       "4068       0.0     0.0         0.0          0.0      0.0          0.0    -1   \n",
       "4069       0.0     0.0         0.0          0.0      0.0          0.0    -1   \n",
       "4070       0.0     0.0         0.0          0.0      0.0          0.0    -1   \n",
       "4071       0.0     0.0         0.0          0.0      0.0          0.0    -1   \n",
       "4072       0.0     0.0         0.0          0.0      0.0          0.0    -1   \n",
       "\n",
       "      origin  \n",
       "0       True  \n",
       "1       True  \n",
       "2       True  \n",
       "3       True  \n",
       "4       True  \n",
       "...      ...  \n",
       "4068   False  \n",
       "4069   False  \n",
       "4070   False  \n",
       "4071   False  \n",
       "4072   False  \n",
       "\n",
       "[7984 rows x 10 columns]"
      ]
     },
     "execution_count": 27,
     "metadata": {},
     "output_type": "execute_result"
    }
   ],
   "source": [
    "unlabel_df['fold'] = -1\n",
    "train_df['origin'] = True\n",
    "unlabel_df['origin'] = False\n",
    "\n",
    "all_data_df = pd.concat([train_df, unlabel_df], axis=0)\n",
    "all_data_df"
   ]
  },
  {
   "cell_type": "code",
   "execution_count": 28,
   "id": "62208958-3cf3-4da3-ab1e-77912f56944c",
   "metadata": {},
   "outputs": [],
   "source": [
    "class TestDataset(Dataset):\n",
    "\n",
    "    def __init__(self, df, maxlen=None, tail=False):\n",
    "        self.texts = df['full_text'].values\n",
    "        self.maxlen = maxlen\n",
    "        self.tail = tail\n",
    "        \n",
    "    def __len__(self):\n",
    "        return len(self.texts)\n",
    "\n",
    "    def __getitem__(self, item):\n",
    "        if self.maxlen is None:\n",
    "            inputs = CFG.TOKENIZER.encode_plus(\n",
    "                self.texts[item], \n",
    "                return_tensors=None, \n",
    "                add_special_tokens=True, \n",
    "\n",
    "            )\n",
    "        else:\n",
    "            if not self.tail:\n",
    "                inputs = CFG.TOKENIZER.encode_plus(\n",
    "                    self.texts[item], \n",
    "                    return_tensors=None, \n",
    "                    add_special_tokens=True, \n",
    "                    max_length=self.maxlen,\n",
    "                    pad_to_max_length=True,\n",
    "                    truncation=True\n",
    "                )\n",
    "            else:\n",
    "                inputs = CFG.TOKENIZER.encode_plus(\n",
    "                    self.texts[item], \n",
    "                    return_tensors=None, \n",
    "                    add_special_tokens=False, \n",
    "                )\n",
    "                lim = self.maxlen - 2\n",
    "                inputs['input_ids'] = [1] + inputs['input_ids'][-lim:] + [2]\n",
    "                inputs['attention_mask'] = [1] + inputs['attention_mask'][-lim:] + [1]\n",
    "                inputs['token_type_ids'] = [0] + inputs['token_type_ids'][-lim:] + [0]\n",
    "        \n",
    "        for k, v in inputs.items():\n",
    "            inputs[k] = torch.tensor(v, dtype=torch.long)\n",
    "        \n",
    "        return inputs"
   ]
  },
  {
   "cell_type": "code",
   "execution_count": 29,
   "id": "27123d28-4c1b-40f9-82d6-4045642777e3",
   "metadata": {},
   "outputs": [],
   "source": [
    "class MeanPooling(nn.Module):\n",
    "    def __init__(self):\n",
    "        super(MeanPooling, self).__init__()\n",
    "        \n",
    "    def forward(self, last_hidden_state, attention_mask):\n",
    "        input_mask_expanded = attention_mask.unsqueeze(-1).expand(last_hidden_state.size()).float()\n",
    "        sum_embeddings = torch.sum(last_hidden_state * input_mask_expanded, 1)\n",
    "        sum_mask = input_mask_expanded.sum(1)\n",
    "        sum_mask = torch.clamp(sum_mask, min=1e-9)\n",
    "        mean_embeddings = sum_embeddings / sum_mask\n",
    "        return mean_embeddings\n",
    "    \n",
    "class WeightedLayerPooling(nn.Module):\n",
    "    def __init__(self, num_hidden_layers, layer_start: int = 4, layer_weights = None):\n",
    "        super(WeightedLayerPooling, self).__init__()\n",
    "        self.layer_start = layer_start\n",
    "        self.num_hidden_layers = num_hidden_layers\n",
    "        self.layer_weights = layer_weights if layer_weights is not None \\\n",
    "            else nn.Parameter(\n",
    "                torch.tensor([1] * (num_hidden_layers+1 - layer_start), dtype=torch.float)\n",
    "            )\n",
    "\n",
    "    def forward(self, all_hidden_states):\n",
    "        all_layer_embedding = all_hidden_states[self.layer_start:, :, :, :]\n",
    "        weight_factor = self.layer_weights.unsqueeze(-1).unsqueeze(-1).unsqueeze(-1).expand(all_layer_embedding.size())\n",
    "        weighted_average = (weight_factor*all_layer_embedding).sum(dim=0) / self.layer_weights.sum()\n",
    "        return weighted_average\n",
    "\n",
    "class CustomModel(nn.Module):\n",
    "    def __init__(self, config_path, model_name, model_type):\n",
    "        super().__init__()\n",
    "\n",
    "        self.config = torch.load(config_path)\n",
    "        self.model = AutoModel.from_config(self.config)\n",
    "\n",
    "        self.model_type = model_type\n",
    "\n",
    "        if self.model_type in [\"WLP\", \"WLP_scale\"]:\n",
    "            self.layer_pool = WeightedLayerPooling(\n",
    "                self.config.num_hidden_layers, \n",
    "                layer_start=self.config.num_hidden_layers, layer_weights=None\n",
    "            )\n",
    "        \n",
    "        self.pool = MeanPooling()\n",
    "        \n",
    "        if model_name == \"microsoft/deberta-v3-xsmall\":\n",
    "            self.fc = nn.Sequential(\n",
    "                nn.Linear(self.config.hidden_size, self.config.hidden_size),\n",
    "                nn.ReLU(),\n",
    "                nn.Linear(self.config.hidden_size, 6),\n",
    "            )\n",
    "        else:\n",
    "            self.fc = nn.Linear(self.config.hidden_size, 6)\n",
    "\n",
    "\n",
    "    def forward(self, inputs):\n",
    "        outputs = self.model(**inputs)\n",
    "        \n",
    "        if self.model_type in [\"WLP\", \"WLP_scale\"]:\n",
    "            all_hidden_states = torch.stack(outputs[1])\n",
    "            hidden_states = self.layer_pool(all_hidden_states)\n",
    "        else:\n",
    "            hidden_states = outputs[0]\n",
    "        \n",
    "        feature = self.pool(hidden_states, inputs['attention_mask'])\n",
    "        output = self.fc(feature)\n",
    "        if self.model_type == \"WLP_scale\":\n",
    "            output = output.sigmoid() * 4 + 1\n",
    "        return output"
   ]
  },
  {
   "cell_type": "code",
   "execution_count": 30,
   "id": "ec1f4ce5-f3f9-4c29-a236-5735127765d7",
   "metadata": {},
   "outputs": [],
   "source": [
    "def inference_fn(test_loader, model, device):\n",
    "    preds = []\n",
    "    model.eval()\n",
    "    model.to(device)\n",
    "    tk0 = tqdm(test_loader, total=len(test_loader))\n",
    "    for inputs in tk0:\n",
    "        for k, v in inputs.items():\n",
    "            inputs[k] = v.to(device)\n",
    "        with torch.no_grad():\n",
    "            y_preds = model(inputs)\n",
    "        preds.append(y_preds.to('cpu').numpy())\n",
    "    predictions = np.concatenate(preds)\n",
    "    return predictions"
   ]
  },
  {
   "cell_type": "code",
   "execution_count": 31,
   "id": "016c6298-fec3-4489-a783-f69787975501",
   "metadata": {},
   "outputs": [
    {
     "name": "stdout",
     "output_type": "stream",
     "text": [
      "microsoft-deberta-v3-base_seed0_fold0\n"
     ]
    },
    {
     "data": {
      "application/vnd.jupyter.widget-view+json": {
       "model_id": "acb440bc8850424fa65e70171525edc6",
       "version_major": 2,
       "version_minor": 0
      },
      "text/plain": [
       "  0%|          | 0/7984 [00:00<?, ?it/s]"
      ]
     },
     "metadata": {},
     "output_type": "display_data"
    },
    {
     "data": {
      "application/vnd.jupyter.widget-view+json": {
       "model_id": "54ab2f8405d74a239da7300b74a7a3bc",
       "version_major": 2,
       "version_minor": 0
      },
      "text/plain": [
       "  0%|          | 0/7984 [00:00<?, ?it/s]"
      ]
     },
     "metadata": {},
     "output_type": "display_data"
    },
    {
     "data": {
      "application/vnd.jupyter.widget-view+json": {
       "model_id": "385c451175c34d3090ac75b5473fb470",
       "version_major": 2,
       "version_minor": 0
      },
      "text/plain": [
       "  0%|          | 0/7984 [00:00<?, ?it/s]"
      ]
     },
     "metadata": {},
     "output_type": "display_data"
    },
    {
     "data": {
      "application/vnd.jupyter.widget-view+json": {
       "model_id": "fd03b2ce65074edbaf97851f5d674716",
       "version_major": 2,
       "version_minor": 0
      },
      "text/plain": [
       "  0%|          | 0/7984 [00:00<?, ?it/s]"
      ]
     },
     "metadata": {},
     "output_type": "display_data"
    },
    {
     "data": {
      "application/vnd.jupyter.widget-view+json": {
       "model_id": "cf19755e19c9460294d7da41358f79ca",
       "version_major": 2,
       "version_minor": 0
      },
      "text/plain": [
       "  0%|          | 0/7984 [00:00<?, ?it/s]"
      ]
     },
     "metadata": {},
     "output_type": "display_data"
    },
    {
     "data": {
      "application/vnd.jupyter.widget-view+json": {
       "model_id": "143e647993644606a8d4f0bb5095088c",
       "version_major": 2,
       "version_minor": 0
      },
      "text/plain": [
       "  0%|          | 0/7984 [00:00<?, ?it/s]"
      ]
     },
     "metadata": {},
     "output_type": "display_data"
    },
    {
     "data": {
      "application/vnd.jupyter.widget-view+json": {
       "model_id": "9608b1b8c24e4127a5a5cb797024f6a3",
       "version_major": 2,
       "version_minor": 0
      },
      "text/plain": [
       "  0%|          | 0/7984 [00:00<?, ?it/s]"
      ]
     },
     "metadata": {},
     "output_type": "display_data"
    },
    {
     "data": {
      "application/vnd.jupyter.widget-view+json": {
       "model_id": "8508bda53b9b4c9abf83cfcdc5f9873e",
       "version_major": 2,
       "version_minor": 0
      },
      "text/plain": [
       "  0%|          | 0/7984 [00:00<?, ?it/s]"
      ]
     },
     "metadata": {},
     "output_type": "display_data"
    },
    {
     "name": "stdout",
     "output_type": "stream",
     "text": [
      "microsoft-deberta-v3-base_seed0_fold0\n"
     ]
    },
    {
     "data": {
      "application/vnd.jupyter.widget-view+json": {
       "model_id": "2dbfaf87910a4e5494ed0b9b19e848cd",
       "version_major": 2,
       "version_minor": 0
      },
      "text/plain": [
       "  0%|          | 0/7984 [00:00<?, ?it/s]"
      ]
     },
     "metadata": {},
     "output_type": "display_data"
    },
    {
     "data": {
      "application/vnd.jupyter.widget-view+json": {
       "model_id": "af49cf1fa3594ea5a8e18779cf93390f",
       "version_major": 2,
       "version_minor": 0
      },
      "text/plain": [
       "  0%|          | 0/7984 [00:00<?, ?it/s]"
      ]
     },
     "metadata": {},
     "output_type": "display_data"
    },
    {
     "data": {
      "application/vnd.jupyter.widget-view+json": {
       "model_id": "575304335ba1424296dc443c9c763764",
       "version_major": 2,
       "version_minor": 0
      },
      "text/plain": [
       "  0%|          | 0/7984 [00:00<?, ?it/s]"
      ]
     },
     "metadata": {},
     "output_type": "display_data"
    },
    {
     "data": {
      "application/vnd.jupyter.widget-view+json": {
       "model_id": "aa96517198204a1b897e9735d14a84a2",
       "version_major": 2,
       "version_minor": 0
      },
      "text/plain": [
       "  0%|          | 0/7984 [00:00<?, ?it/s]"
      ]
     },
     "metadata": {},
     "output_type": "display_data"
    },
    {
     "data": {
      "application/vnd.jupyter.widget-view+json": {
       "model_id": "b96f917808f741e1ae1334c7fa9a0d83",
       "version_major": 2,
       "version_minor": 0
      },
      "text/plain": [
       "  0%|          | 0/7984 [00:00<?, ?it/s]"
      ]
     },
     "metadata": {},
     "output_type": "display_data"
    },
    {
     "data": {
      "application/vnd.jupyter.widget-view+json": {
       "model_id": "baa75c9b3541478ea7e880e6d53e146c",
       "version_major": 2,
       "version_minor": 0
      },
      "text/plain": [
       "  0%|          | 0/7984 [00:00<?, ?it/s]"
      ]
     },
     "metadata": {},
     "output_type": "display_data"
    },
    {
     "data": {
      "application/vnd.jupyter.widget-view+json": {
       "model_id": "a1941725d70c4e6bbc9046abc6ef8f7b",
       "version_major": 2,
       "version_minor": 0
      },
      "text/plain": [
       "  0%|          | 0/7984 [00:00<?, ?it/s]"
      ]
     },
     "metadata": {},
     "output_type": "display_data"
    },
    {
     "data": {
      "application/vnd.jupyter.widget-view+json": {
       "model_id": "587170d374074b86a5552cb6aec82233",
       "version_major": 2,
       "version_minor": 0
      },
      "text/plain": [
       "  0%|          | 0/7984 [00:00<?, ?it/s]"
      ]
     },
     "metadata": {},
     "output_type": "display_data"
    },
    {
     "name": "stdout",
     "output_type": "stream",
     "text": [
      "microsoft-deberta-v3-base_seed0_fold0\n"
     ]
    },
    {
     "data": {
      "application/vnd.jupyter.widget-view+json": {
       "model_id": "af900a95e36e4115bb63489c88bf6147",
       "version_major": 2,
       "version_minor": 0
      },
      "text/plain": [
       "  0%|          | 0/7984 [00:00<?, ?it/s]"
      ]
     },
     "metadata": {},
     "output_type": "display_data"
    },
    {
     "data": {
      "application/vnd.jupyter.widget-view+json": {
       "model_id": "65ea4d820d16442a907605bf1562a566",
       "version_major": 2,
       "version_minor": 0
      },
      "text/plain": [
       "  0%|          | 0/7984 [00:00<?, ?it/s]"
      ]
     },
     "metadata": {},
     "output_type": "display_data"
    },
    {
     "data": {
      "application/vnd.jupyter.widget-view+json": {
       "model_id": "488d75870d0042b9b4ed6a5d8d549c2f",
       "version_major": 2,
       "version_minor": 0
      },
      "text/plain": [
       "  0%|          | 0/7984 [00:00<?, ?it/s]"
      ]
     },
     "metadata": {},
     "output_type": "display_data"
    },
    {
     "data": {
      "application/vnd.jupyter.widget-view+json": {
       "model_id": "fdab0db45ee94b049e02749f2a8cbccd",
       "version_major": 2,
       "version_minor": 0
      },
      "text/plain": [
       "  0%|          | 0/7984 [00:00<?, ?it/s]"
      ]
     },
     "metadata": {},
     "output_type": "display_data"
    },
    {
     "data": {
      "application/vnd.jupyter.widget-view+json": {
       "model_id": "e826c413c4ba44a8b6527f220e8cad81",
       "version_major": 2,
       "version_minor": 0
      },
      "text/plain": [
       "  0%|          | 0/7984 [00:00<?, ?it/s]"
      ]
     },
     "metadata": {},
     "output_type": "display_data"
    },
    {
     "data": {
      "application/vnd.jupyter.widget-view+json": {
       "model_id": "fcb40a709612486bb07bac5107a3965b",
       "version_major": 2,
       "version_minor": 0
      },
      "text/plain": [
       "  0%|          | 0/7984 [00:00<?, ?it/s]"
      ]
     },
     "metadata": {},
     "output_type": "display_data"
    },
    {
     "data": {
      "application/vnd.jupyter.widget-view+json": {
       "model_id": "aa5b57f323a14ae5a1cd5b78e1fa0c06",
       "version_major": 2,
       "version_minor": 0
      },
      "text/plain": [
       "  0%|          | 0/7984 [00:00<?, ?it/s]"
      ]
     },
     "metadata": {},
     "output_type": "display_data"
    },
    {
     "data": {
      "application/vnd.jupyter.widget-view+json": {
       "model_id": "b03fba2f31ea4595a820d692c63780ea",
       "version_major": 2,
       "version_minor": 0
      },
      "text/plain": [
       "  0%|          | 0/7984 [00:00<?, ?it/s]"
      ]
     },
     "metadata": {},
     "output_type": "display_data"
    }
   ],
   "source": [
    "predictions = []\n",
    "mname_lst = []\n",
    "for info in CFG.ROUND_MODELS:\n",
    "    mname = info['path'][0].split('/')[2]\n",
    "    print(mname)\n",
    "    mname_lst.append(mname)\n",
    "    _predictions = []\n",
    "    test_dataset = TestDataset(all_data_df, maxlen=info['max_len'], tail=info['tail'])\n",
    "    test_loader = DataLoader(test_dataset,\n",
    "                         batch_size=CFG.BS,\n",
    "                         shuffle=False,\n",
    "                         collate_fn=DataCollatorWithPadding(tokenizer=CFG.TOKENIZER, padding='longest'),\n",
    "                         num_workers=CFG.N_WORKERS, pin_memory=True, drop_last=False)\n",
    "    c = CFG.CONFIG if info['model_name'] == 'microsoft/deberta-v3-base' else \"../input/fb3-distribution/config.pth\"\n",
    "    model = CustomModel(config_path=c, model_name=info['model_name'], model_type=info['model_type'])\n",
    "    r_preds = []\n",
    "    for path in info['path']:\n",
    "        r_preds = []\n",
    "        for r in ['up', 'cut']:\n",
    "            state = torch.load(f\"{path}_{r}_best.pth\", map_location=torch.device('cpu'))\n",
    "            model.load_state_dict(state['model'])\n",
    "            prediction = inference_fn(test_loader, model, device)\n",
    "            r_preds.append(prediction)\n",
    "        prediction = np.mean(r_preds, axis=0)\n",
    "        _predictions.append(prediction)\n",
    "        \n",
    "        del state, prediction\n",
    "        gc.collect()\n",
    "        torch.cuda.empty_cache()\n",
    "    predictions.append(_predictions)\n",
    "    \n",
    "predictions = np.array(predictions)"
   ]
  },
  {
   "cell_type": "code",
   "execution_count": 32,
   "id": "3bbd2844-e70f-4058-9838-cb085da5b26f",
   "metadata": {},
   "outputs": [],
   "source": [
    "all_data_df.to_csv(f\"{CFG.OUTPUT}/text_for_distillation.csv\", index=None)\n",
    "np.save(f\"{CFG.OUTPUT}/label_for_distillation\", predictions)\n",
    "!echo \"{mname_lst}\" > \"{CFG.OUTPUT}/model_names.txt\""
   ]
  },
  {
   "cell_type": "code",
   "execution_count": 41,
   "id": "45d61752-f27c-4d41-a5bf-7cd1cb6802a7",
   "metadata": {},
   "outputs": [
    {
     "data": {
      "text/plain": [
       "(3, 4, 7984, 6)"
      ]
     },
     "execution_count": 41,
     "metadata": {},
     "output_type": "execute_result"
    }
   ],
   "source": [
    "predictions.shape"
   ]
  },
  {
   "cell_type": "code",
   "execution_count": 37,
   "id": "28b3605a-9a84-48af-844f-bf5c562053f0",
   "metadata": {},
   "outputs": [
    {
     "name": "stdout",
     "output_type": "stream",
     "text": [
      "Data package template written to: /home/jupyter/distillation_data_v4/dataset-metadata.json\n"
     ]
    }
   ],
   "source": [
    "import json\n",
    "!kaggle datasets init -p {CFG.OUTPUT}\n",
    "\n",
    "with open(f\"{CFG.OUTPUT}/dataset-metadata.json\", \"r\") as f:\n",
    "    d = json.load(f)\n",
    "    \n",
    "t = f\"FB3 distillation data v4\"\n",
    "d['title'] = t\n",
    "d['id'] = \"takamichitoda/\"+\"-\".join(t.split())\n",
    "\n",
    "with open(f\"{CFG.OUTPUT}/dataset-metadata.json\", \"w\") as f:\n",
    "    json.dump(d, f)"
   ]
  },
  {
   "cell_type": "code",
   "execution_count": 38,
   "id": "32cc5226-6735-424f-b1aa-54e8f8dca677",
   "metadata": {},
   "outputs": [
    {
     "name": "stdout",
     "output_type": "stream",
     "text": [
      "Starting upload for file label_for_distillation.npy\n",
      "100%|███████████████████████████████████████| 2.19M/2.19M [00:03<00:00, 675kB/s]\n",
      "Upload successful: label_for_distillation.npy (2MB)\n",
      "Skipping folder: tokenizer; use '--dir-mode' to upload folders\n",
      "Starting upload for file model_names.txt\n",
      "100%|███████████████████████████████████████████| 124/124 [00:02<00:00, 56.6B/s]\n",
      "Upload successful: model_names.txt (124B)\n",
      "Starting upload for file text_for_distillation.csv\n",
      "100%|██████████████████████████████████████| 18.0M/18.0M [00:03<00:00, 5.53MB/s]\n",
      "Upload successful: text_for_distillation.csv (18MB)\n",
      "Your private Dataset is being created. Please check progress at https://www.kaggle.com/datasets/takamichitoda/FB3-distillation-data-v4\n",
      "ref                                                title                                 size  lastUpdated          downloadCount  voteCount  usabilityRating  \n",
      "-------------------------------------------------  -----------------------------------  -----  -------------------  -------------  ---------  ---------------  \n",
      "takamichitoda/fb3-debertav3-mpl                    FB3 deberta-v3 MPL                   559MB  2022-11-17 00:48:14              0          0  0.25             \n",
      "takamichitoda/fb3-exp203-output                    FB3 exp203 output                      4GB  2022-11-16 21:16:27              1          0  0.3529412        \n",
      "takamichitoda/fb3-exp201-output                    FB3 exp201 output                      2GB  2022-11-16 06:12:28              0          0  0.3529412        \n",
      "takamichitoda/fb3-exp200-output                    FB3 exp200 output                      4GB  2022-11-15 20:00:34              1          0  0.3529412        \n",
      "takamichitoda/fb3-exp198-output                    FB3 exp198 output                      2GB  2022-11-15 07:10:07              0          0  0.3529412        \n",
      "takamichitoda/fb3-exp189-output                    FB3 exp189 output                      2GB  2022-11-11 11:16:19              0          0  0.3529412        \n",
      "takamichitoda/fb3-exp186-output                    FB3 exp186 output                      5GB  2022-11-11 02:54:54              0          0  0.3529412        \n",
      "takamichitoda/fb3-embed-features-for-svr           FB3 embed features for SVR           155MB  2022-11-11 01:26:53              0          0  0.0              \n",
      "takamichitoda/fb3-exp184-output                    FB3 exp184 output                      2GB  2022-11-10 09:13:35              0          0  0.3529412        \n",
      "takamichitoda/fb3-exp180-output                    FB3 exp180 output                      2GB  2022-11-10 00:30:39              0          0  0.3529412        \n",
      "takamichitoda/fb3-round-model                      FB3 round model                        5GB  2022-11-09 09:51:43              1          0  0.25             \n",
      "takamichitoda/fb3-exp179-output                    FB3 exp179 output                      2GB  2022-11-09 07:45:49              0          0  0.3529412        \n",
      "takamichitoda/fb3-exp166-output                    FB3 exp166 output                      2GB  2022-11-07 06:18:38              0          0  0.3529412        \n",
      "takamichitoda/fb3-deberta-v3-mask-loss             FB3 DeBERTa v3 mask loss               2GB  2022-11-01 12:21:30              0          0  0.25             \n",
      "takamichitoda/fb3-distribution-mask                FB3 distribution mask                958MB  2022-11-01 07:08:51              0          0  0.375            \n",
      "takamichitoda/fb3-deberta-v3-weightedlayerpooling  FB3 DeBERTa v3 WeightedLayerPooling    2GB  2022-10-27 02:00:53              0          0  0.25             \n",
      "takamichitoda/fb3-exp119-output                    FB3 exp119 output                      2GB  2022-10-19 23:15:40              0          0  0.3529412        \n",
      "takamichitoda/fb3-deberta-v3-xsmall                FB3 DeBERTa v3 xsmall                  1GB  2022-10-14 06:01:10              0          0  0.25             \n",
      "takamichitoda/fb3-deberta-v3-pseudo-3rd            FB3 DeBERTa v3 pseudo 3rd            579MB  2022-10-11 11:41:50             24          0  0.25             \n",
      "takamichitoda/fb3-deberta-v3-pseudo-2nd            FB3 DeBERTa v3 pseudo 2nd              2GB  2022-09-29 19:55:15              2          0  0.25             \n"
     ]
    }
   ],
   "source": [
    "!kaggle datasets create -p {CFG.OUTPUT}\n",
    "#!kaggle datasets version -m \"test\" -p {CFG.OUTPUT}/\n",
    "\n",
    "!kaggle datasets list -m --sort-by \"updated\""
   ]
  },
  {
   "cell_type": "code",
   "execution_count": null,
   "id": "a73b88cd-225b-4755-942e-94e85c22529f",
   "metadata": {},
   "outputs": [],
   "source": []
  }
 ],
 "metadata": {
  "kernelspec": {
   "display_name": "Python 3 (ipykernel)",
   "language": "python",
   "name": "python3"
  },
  "language_info": {
   "codemirror_mode": {
    "name": "ipython",
    "version": 3
   },
   "file_extension": ".py",
   "mimetype": "text/x-python",
   "name": "python",
   "nbconvert_exporter": "python",
   "pygments_lexer": "ipython3",
   "version": "3.7.12"
  }
 },
 "nbformat": 4,
 "nbformat_minor": 5
}
