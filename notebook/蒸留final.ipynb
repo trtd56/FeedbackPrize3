{
 "cells": [
  {
   "cell_type": "code",
   "execution_count": null,
   "id": "5ac06e77-7e5a-401b-8c38-7002fcb8a51d",
   "metadata": {},
   "outputs": [],
   "source": [
    "!nvidia-smi"
   ]
  },
  {
   "cell_type": "code",
   "execution_count": null,
   "id": "289abe66-081e-43f4-bdb4-a9c5b41906ad",
   "metadata": {},
   "outputs": [],
   "source": [
    "!mkdir -p .kaggle\n",
    "!cp \"./kaggle.json\" .kaggle/\n",
    "!chmod 600 .kaggle/kaggle.json\n",
    "!cp -r .kaggle /root\n",
    "\n",
    "!kaggle -v"
   ]
  },
  {
   "cell_type": "code",
   "execution_count": null,
   "id": "c886bafc-ebb1-4ab5-a790-6b56c2214807",
   "metadata": {},
   "outputs": [],
   "source": [
    "# competition data\n",
    "#!kaggle competitions download -c feedback-prize-english-language-learning\n",
    "#!unzip feedback-prize-english-language-learning.zip\n",
    "#!rm -rf feedback-prize-english-language-learning.zip\n",
    "#!mkdir -p competition_data\n",
    "#!mv sample_submission.csv test.csv train.csv competition_data/\n",
    "!echo \"### competition data ###\"\n",
    "!ls /content/competition_data/\n",
    "!echo\n",
    "\n",
    "# pseudo labels\n",
    "#!mkdir -p fb3-distillation-data-final\n",
    "#!kaggle kernels output takamichitoda/fb3-make-avg-distillation-pseudo -p ./fb3-distillation-data-final\n",
    "!echo \"### pseudo data ###\"\n",
    "!ls ./fb3-distillation-data-final\n",
    "!echo"
   ]
  },
  {
   "cell_type": "code",
   "execution_count": null,
   "id": "8e5c21f6-b52a-42d9-8531-d2e916536448",
   "metadata": {},
   "outputs": [],
   "source": [
    "!pip install iterative-stratification==0.1.7"
   ]
  },
  {
   "cell_type": "code",
   "execution_count": 1,
   "id": "0624eaa2-2cbd-452e-8b1c-289dee833c57",
   "metadata": {},
   "outputs": [
    {
     "name": "stdout",
     "output_type": "stream",
     "text": [
      "env: TOKENIZERS_PARALLELISM=true\n",
      "cuda\n",
      "transformers.__version__: 4.20.1\n"
     ]
    }
   ],
   "source": [
    "import gc\n",
    "import json\n",
    "import os\n",
    "import random\n",
    "import warnings\n",
    "warnings.filterwarnings(\"ignore\")\n",
    "\n",
    "import numpy as np\n",
    "import pandas as pd\n",
    "\n",
    "from tqdm.auto import tqdm\n",
    "from iterstrat.ml_stratifiers import MultilabelStratifiedKFold\n",
    "from sklearn.metrics import mean_squared_error\n",
    "\n",
    "import torch\n",
    "import torch.nn as nn\n",
    "from torch.utils.data import DataLoader, Dataset\n",
    "from transformers import AdamW\n",
    "from torch.utils.checkpoint import checkpoint\n",
    "\n",
    "import transformers\n",
    "from transformers import AutoTokenizer, AutoModel, AutoConfig\n",
    "from transformers import get_cosine_schedule_with_warmup\n",
    "\n",
    "is_gpu = torch.cuda.is_available()\n",
    "device = torch.device('cuda' if is_gpu else 'cpu')\n",
    "scaler = torch.cuda.amp.GradScaler(enabled=is_gpu)\n",
    "\n",
    "%env TOKENIZERS_PARALLELISM=true\n",
    "print(device)\n",
    "print(f\"transformers.__version__: {transformers.__version__}\")"
   ]
  },
  {
   "cell_type": "code",
   "execution_count": 2,
   "id": "d20c1dc3-1710-4b70-915c-051a9c94a912",
   "metadata": {},
   "outputs": [
    {
     "name": "stdout",
     "output_type": "stream",
     "text": [
      "Data package template written to: /home/jupyter/output/distribution/dataset-metadata.json\n",
      "{'title': 'FB3 distribution last', 'id': 'takamichitoda/FB3-distribution-last', 'licenses': [{'name': 'CC0-1.0'}]}\n"
     ]
    },
    {
     "name": "stderr",
     "output_type": "stream",
     "text": [
      "Special tokens have been added in the vocabulary, make sure the associated word embeddings are fine-tuned or trained.\n",
      "Special tokens have been added in the vocabulary, make sure the associated word embeddings are fine-tuned or trained.\n"
     ]
    },
    {
     "name": "stdout",
     "output_type": "stream",
     "text": [
      "  adding: home/jupyter/output/distribution//tokenizer/ (stored 0%)\n",
      "  adding: home/jupyter/output/distribution//tokenizer/special_tokens_map.json (deflated 54%)\n",
      "  adding: home/jupyter/output/distribution//tokenizer/added_tokens.json (stored 0%)\n",
      "  adding: home/jupyter/output/distribution//tokenizer/tokenizer.json (deflated 77%)\n",
      "  adding: home/jupyter/output/distribution//tokenizer/tokenizer_config.json (deflated 45%)\n",
      "  adding: home/jupyter/output/distribution//tokenizer/spm.model (deflated 50%)\n"
     ]
    }
   ],
   "source": [
    "class CFG:\n",
    "    EXP_NUM = 15\n",
    "    MEMO = \"final\"\n",
    "\n",
    "    INPUT = \"/home/jupyter/competition_data\"\n",
    "    OUTPUT = f\"/home/jupyter/output/distribution/\"\n",
    "    SEED = 0\n",
    "    N_FOLD = 4\n",
    "    TARGETS = ['cohesion', 'syntax', 'vocabulary', 'phraseology', 'grammar', 'conventions']\n",
    "    \n",
    "    MODEL_NAME = \"microsoft/deberta-v3-xsmall\"\n",
    "    TOKENIZER = None\n",
    "    MAX_LEN = 512\n",
    "    GRAD_CHECKPOINT = False\n",
    "    \n",
    "    N_EPOCH = 16\n",
    "    N_WORKER = 4\n",
    "    ENCODER_LR = 1e-4\n",
    "    DECODER_LR = 5e-3\n",
    "\n",
    "    EPS = 1e-6\n",
    "    BETAS = (0.9, 0.999)\n",
    "    WEIGHT_DECAY = 0.1\n",
    "    N_WARMUP = 0\n",
    "    N_CYCLES = 0.5\n",
    "    \n",
    "    BS = 64\n",
    "    ACCUMLATION = 1\n",
    "    \n",
    "    GRAD_NORM = 0.1\n",
    "    \n",
    "    MASK_RATIO = 0.1\n",
    "    \n",
    "    SKIP_FOLDS = [None]\n",
    "    LOCAL_SEED = 0\n",
    "\n",
    "!mkdir -p {CFG.OUTPUT}\n",
    "!kaggle datasets init -p {CFG.OUTPUT}\n",
    "\n",
    "with open(f'{CFG.OUTPUT}/dataset-metadata.json', 'r') as f:\n",
    "    d = json.load(f)\n",
    "t = f'FB3 distribution last'\n",
    "\n",
    "d['title'] = t\n",
    "d['id'] = f'takamichitoda/'+ t.replace(' ', '-')\n",
    "print(d)\n",
    "with open(f'{CFG.OUTPUT}/dataset-metadata.json', 'w') as f:\n",
    "    json.dump(d, f)\n",
    "del d\n",
    "\n",
    "s = {k:v for k, v in vars(CFG).items() if \"__\" != k[:2]}\n",
    "with open(f'{CFG.OUTPUT}/setting.json', 'w') as f:\n",
    "    json.dump(s, f)\n",
    "del s\n",
    "\n",
    "!rm -rf {CFG.OUTPUT}/tokenizer*\n",
    "TOKENIZER = AutoTokenizer.from_pretrained(CFG.MODEL_NAME)\n",
    "TOKENIZER.save_pretrained(CFG.OUTPUT+'tokenizer/')\n",
    "CFG.TOKENIZER = TOKENIZER\n",
    "del TOKENIZER\n",
    "!zip -r tokenizer.zip {CFG.OUTPUT}/tokenizer\n",
    "!mv tokenizer.zip {CFG.OUTPUT}"
   ]
  },
  {
   "cell_type": "code",
   "execution_count": 3,
   "id": "193a945f-85e4-4793-8157-77f7d6948c99",
   "metadata": {},
   "outputs": [
    {
     "data": {
      "text/html": [
       "<div>\n",
       "<style scoped>\n",
       "    .dataframe tbody tr th:only-of-type {\n",
       "        vertical-align: middle;\n",
       "    }\n",
       "\n",
       "    .dataframe tbody tr th {\n",
       "        vertical-align: top;\n",
       "    }\n",
       "\n",
       "    .dataframe thead th {\n",
       "        text-align: right;\n",
       "    }\n",
       "</style>\n",
       "<table border=\"1\" class=\"dataframe\">\n",
       "  <thead>\n",
       "    <tr style=\"text-align: right;\">\n",
       "      <th></th>\n",
       "      <th>text_id</th>\n",
       "      <th>full_text</th>\n",
       "      <th>cohesion</th>\n",
       "      <th>syntax</th>\n",
       "      <th>vocabulary</th>\n",
       "      <th>phraseology</th>\n",
       "      <th>grammar</th>\n",
       "      <th>conventions</th>\n",
       "      <th>fold</th>\n",
       "    </tr>\n",
       "  </thead>\n",
       "  <tbody>\n",
       "    <tr>\n",
       "      <th>0</th>\n",
       "      <td>0016926B079C</td>\n",
       "      <td>I think that students would benefit from learn...</td>\n",
       "      <td>3.5</td>\n",
       "      <td>3.5</td>\n",
       "      <td>3.0</td>\n",
       "      <td>3.0</td>\n",
       "      <td>4.0</td>\n",
       "      <td>3.0</td>\n",
       "      <td>2</td>\n",
       "    </tr>\n",
       "    <tr>\n",
       "      <th>1</th>\n",
       "      <td>0022683E9EA5</td>\n",
       "      <td>When a problem is a change you have to let it ...</td>\n",
       "      <td>2.5</td>\n",
       "      <td>2.5</td>\n",
       "      <td>3.0</td>\n",
       "      <td>2.0</td>\n",
       "      <td>2.0</td>\n",
       "      <td>2.5</td>\n",
       "      <td>3</td>\n",
       "    </tr>\n",
       "    <tr>\n",
       "      <th>2</th>\n",
       "      <td>00299B378633</td>\n",
       "      <td>Dear, Principal\\n\\nIf u change the school poli...</td>\n",
       "      <td>3.0</td>\n",
       "      <td>3.5</td>\n",
       "      <td>3.0</td>\n",
       "      <td>3.0</td>\n",
       "      <td>3.0</td>\n",
       "      <td>2.5</td>\n",
       "      <td>0</td>\n",
       "    </tr>\n",
       "    <tr>\n",
       "      <th>3</th>\n",
       "      <td>003885A45F42</td>\n",
       "      <td>The best time in life is when you become yours...</td>\n",
       "      <td>4.5</td>\n",
       "      <td>4.5</td>\n",
       "      <td>4.5</td>\n",
       "      <td>4.5</td>\n",
       "      <td>4.0</td>\n",
       "      <td>5.0</td>\n",
       "      <td>0</td>\n",
       "    </tr>\n",
       "    <tr>\n",
       "      <th>4</th>\n",
       "      <td>0049B1DF5CCC</td>\n",
       "      <td>Small act of kindness can impact in other peop...</td>\n",
       "      <td>2.5</td>\n",
       "      <td>3.0</td>\n",
       "      <td>3.0</td>\n",
       "      <td>3.0</td>\n",
       "      <td>2.5</td>\n",
       "      <td>2.5</td>\n",
       "      <td>2</td>\n",
       "    </tr>\n",
       "  </tbody>\n",
       "</table>\n",
       "</div>"
      ],
      "text/plain": [
       "        text_id                                          full_text  cohesion  \\\n",
       "0  0016926B079C  I think that students would benefit from learn...       3.5   \n",
       "1  0022683E9EA5  When a problem is a change you have to let it ...       2.5   \n",
       "2  00299B378633  Dear, Principal\\n\\nIf u change the school poli...       3.0   \n",
       "3  003885A45F42  The best time in life is when you become yours...       4.5   \n",
       "4  0049B1DF5CCC  Small act of kindness can impact in other peop...       2.5   \n",
       "\n",
       "   syntax  vocabulary  phraseology  grammar  conventions  fold  \n",
       "0     3.5         3.0          3.0      4.0          3.0     2  \n",
       "1     2.5         3.0          2.0      2.0          2.5     3  \n",
       "2     3.5         3.0          3.0      3.0          2.5     0  \n",
       "3     4.5         4.5          4.5      4.0          5.0     0  \n",
       "4     3.0         3.0          3.0      2.5          2.5     2  "
      ]
     },
     "metadata": {},
     "output_type": "display_data"
    },
    {
     "data": {
      "text/html": [
       "<div>\n",
       "<style scoped>\n",
       "    .dataframe tbody tr th:only-of-type {\n",
       "        vertical-align: middle;\n",
       "    }\n",
       "\n",
       "    .dataframe tbody tr th {\n",
       "        vertical-align: top;\n",
       "    }\n",
       "\n",
       "    .dataframe thead th {\n",
       "        text-align: right;\n",
       "    }\n",
       "</style>\n",
       "<table border=\"1\" class=\"dataframe\">\n",
       "  <thead>\n",
       "    <tr style=\"text-align: right;\">\n",
       "      <th></th>\n",
       "      <th>text_id</th>\n",
       "      <th>full_text</th>\n",
       "      <th>cohesion</th>\n",
       "      <th>syntax</th>\n",
       "      <th>vocabulary</th>\n",
       "      <th>phraseology</th>\n",
       "      <th>grammar</th>\n",
       "      <th>conventions</th>\n",
       "      <th>fold</th>\n",
       "      <th>origin</th>\n",
       "    </tr>\n",
       "  </thead>\n",
       "  <tbody>\n",
       "    <tr>\n",
       "      <th>0</th>\n",
       "      <td>0016926B079C</td>\n",
       "      <td>I think that students would benefit from learn...</td>\n",
       "      <td>3.018248</td>\n",
       "      <td>2.975119</td>\n",
       "      <td>3.121308</td>\n",
       "      <td>3.170475</td>\n",
       "      <td>3.175702</td>\n",
       "      <td>2.880757</td>\n",
       "      <td>2</td>\n",
       "      <td>True</td>\n",
       "    </tr>\n",
       "    <tr>\n",
       "      <th>1</th>\n",
       "      <td>0022683E9EA5</td>\n",
       "      <td>When a problem is a change you have to let it ...</td>\n",
       "      <td>2.706631</td>\n",
       "      <td>2.599061</td>\n",
       "      <td>2.869723</td>\n",
       "      <td>2.708271</td>\n",
       "      <td>2.475758</td>\n",
       "      <td>2.625469</td>\n",
       "      <td>3</td>\n",
       "      <td>True</td>\n",
       "    </tr>\n",
       "    <tr>\n",
       "      <th>2</th>\n",
       "      <td>00299B378633</td>\n",
       "      <td>Dear, Principal\\n\\nIf u change the school poli...</td>\n",
       "      <td>2.832288</td>\n",
       "      <td>2.960374</td>\n",
       "      <td>3.035029</td>\n",
       "      <td>2.946630</td>\n",
       "      <td>2.983717</td>\n",
       "      <td>3.079813</td>\n",
       "      <td>0</td>\n",
       "      <td>True</td>\n",
       "    </tr>\n",
       "    <tr>\n",
       "      <th>3</th>\n",
       "      <td>003885A45F42</td>\n",
       "      <td>The best time in life is when you become yours...</td>\n",
       "      <td>3.739573</td>\n",
       "      <td>3.700710</td>\n",
       "      <td>3.771889</td>\n",
       "      <td>3.764411</td>\n",
       "      <td>3.721735</td>\n",
       "      <td>3.855008</td>\n",
       "      <td>0</td>\n",
       "      <td>True</td>\n",
       "    </tr>\n",
       "    <tr>\n",
       "      <th>4</th>\n",
       "      <td>0049B1DF5CCC</td>\n",
       "      <td>Small act of kindness can impact in other peop...</td>\n",
       "      <td>2.491964</td>\n",
       "      <td>2.439298</td>\n",
       "      <td>2.848604</td>\n",
       "      <td>2.701830</td>\n",
       "      <td>2.642546</td>\n",
       "      <td>2.390833</td>\n",
       "      <td>2</td>\n",
       "      <td>True</td>\n",
       "    </tr>\n",
       "  </tbody>\n",
       "</table>\n",
       "</div>"
      ],
      "text/plain": [
       "        text_id                                          full_text  cohesion  \\\n",
       "0  0016926B079C  I think that students would benefit from learn...  3.018248   \n",
       "1  0022683E9EA5  When a problem is a change you have to let it ...  2.706631   \n",
       "2  00299B378633  Dear, Principal\\n\\nIf u change the school poli...  2.832288   \n",
       "3  003885A45F42  The best time in life is when you become yours...  3.739573   \n",
       "4  0049B1DF5CCC  Small act of kindness can impact in other peop...  2.491964   \n",
       "\n",
       "     syntax  vocabulary  phraseology   grammar  conventions  fold  origin  \n",
       "0  2.975119    3.121308     3.170475  3.175702     2.880757     2    True  \n",
       "1  2.599061    2.869723     2.708271  2.475758     2.625469     3    True  \n",
       "2  2.960374    3.035029     2.946630  2.983717     3.079813     0    True  \n",
       "3  3.700710    3.771889     3.764411  3.721735     3.855008     0    True  \n",
       "4  2.439298    2.848604     2.701830  2.642546     2.390833     2    True  "
      ]
     },
     "metadata": {},
     "output_type": "display_data"
    },
    {
     "data": {
      "text/plain": [
       "1.0"
      ]
     },
     "execution_count": 3,
     "metadata": {},
     "output_type": "execute_result"
    }
   ],
   "source": [
    "org_train_df = pd.read_csv(f\"{CFG.INPUT}/train.csv\")\n",
    "\n",
    "cv = MultilabelStratifiedKFold(n_splits=CFG.N_FOLD, shuffle=True, random_state=CFG.SEED)\n",
    "for n, (train_index, valid_index) in enumerate(cv.split(org_train_df, org_train_df[CFG.TARGETS])):\n",
    "    org_train_df.loc[valid_index, 'fold'] = int(n)\n",
    "org_train_df['fold'] = org_train_df['fold'].astype(int)\n",
    "\n",
    "display(org_train_df.head())\n",
    "\n",
    "text_for_distillation_df = pd.read_csv('fb3-distillation-data-final/AVG_pseudo.csv')\n",
    "\n",
    "display(text_for_distillation_df.head())\n",
    "\n",
    "(org_train_df['fold'] == text_for_distillation_df.query('origin')['fold']).mean()"
   ]
  },
  {
   "cell_type": "code",
   "execution_count": 4,
   "id": "76d39237-3e2e-4812-ae34-099caebe478e",
   "metadata": {},
   "outputs": [
    {
     "data": {
      "text/plain": [
       "(40, 7984, 6)"
      ]
     },
     "execution_count": 4,
     "metadata": {},
     "output_type": "execute_result"
    }
   ],
   "source": [
    "all_pseudo_vecs = np.load(\"fb3-distillation-data-final/all_pseudo.npy\")\n",
    "all_pseudo_vecs.shape"
   ]
  },
  {
   "cell_type": "code",
   "execution_count": 5,
   "id": "350b0d36-2a89-4ec2-abe0-d75175f2cd54",
   "metadata": {},
   "outputs": [
    {
     "data": {
      "text/plain": [
       "(10, 4, 7984, 6)"
      ]
     },
     "execution_count": 5,
     "metadata": {},
     "output_type": "execute_result"
    }
   ],
   "source": [
    "all_pseudo_vecs_fold = np.stack([all_pseudo_vecs[i*4:i*4+4, :, :] for i in range(10)])\n",
    "all_pseudo_vecs_fold.shape"
   ]
  },
  {
   "cell_type": "code",
   "execution_count": 6,
   "id": "2f8fb7f0-9551-4954-b3e5-c91e36519786",
   "metadata": {},
   "outputs": [
    {
     "data": {
      "text/plain": [
       "array([[3.0354385, 2.9816506, 3.130321 , 3.1700034, 3.1622906, 2.8736572],\n",
       "       [2.664759 , 2.5898054, 2.8661423, 2.7049441, 2.4630837, 2.6250384],\n",
       "       [2.8375874, 2.9681032, 3.0402222, 2.9363437, 2.9911904, 3.106997 ],\n",
       "       ...,\n",
       "       [3.42127  , 3.4127638, 3.5362985, 3.555582 , 3.79319  , 3.5025253],\n",
       "       [3.8772469, 3.7908058, 3.814385 , 3.8354151, 4.017723 , 3.8829298],\n",
       "       [4.059508 , 4.0865126, 4.23125  , 4.257974 , 4.4012203, 4.069358 ]],\n",
       "      dtype=float32)"
      ]
     },
     "execution_count": 6,
     "metadata": {},
     "output_type": "execute_result"
    }
   ],
   "source": [
    "np.median(all_pseudo_vecs_fold.mean(1), 0)"
   ]
  },
  {
   "cell_type": "code",
   "execution_count": 7,
   "id": "a928efcd-1063-4cde-8dcb-0f8b4e3a5b95",
   "metadata": {},
   "outputs": [],
   "source": [
    "MASK_ID = 128000\n",
    "def masking(inputs):\n",
    "    is_special_token = (np.array(inputs[\"input_ids\"]) == 1).astype(int) + (np.array(inputs[\"input_ids\"]) == 2).astype(int)\n",
    "    mask = np.array([random.random() < CFG.MASK_RATIO for _ in range(CFG.MAX_LEN)])\n",
    "    mask = mask * np.array(inputs[\"attention_mask\"]) * (1 - is_special_token)\n",
    "    masking_ids = np.where(mask != 0, MASK_ID, inputs[\"input_ids\"])\n",
    "    return masking_ids"
   ]
  },
  {
   "cell_type": "code",
   "execution_count": 8,
   "id": "b80536c2-8905-4160-b123-fe96820bfd5b",
   "metadata": {},
   "outputs": [],
   "source": [
    "class FB3Dataset(Dataset):\n",
    "    def __init__(self, df, train=False):\n",
    "        self.texts = df['full_text'].values\n",
    "        self.labels = df[CFG.TARGETS].values\n",
    "        self.train = train\n",
    "\n",
    "    def __len__(self):\n",
    "        return len(self.texts)\n",
    "\n",
    "    def __getitem__(self, item):\n",
    "        inputs = CFG.TOKENIZER.encode_plus(\n",
    "            self.texts[item], \n",
    "            return_tensors=None, \n",
    "            add_special_tokens=True, \n",
    "            max_length=CFG.MAX_LEN,\n",
    "            pad_to_max_length=True,\n",
    "            truncation=True\n",
    "        )\n",
    "        #if self.train:\n",
    "        #    inputs[\"input_ids\"] = masking(inputs)\n",
    "\n",
    "        for k, v in inputs.items():\n",
    "            inputs[k] = torch.tensor(v, dtype=torch.long) \n",
    "        label = torch.tensor(self.labels[item], dtype=torch.float)\n",
    "        return inputs, label\n",
    "\n",
    "def collate(inputs):\n",
    "    mask_len = int(inputs[\"attention_mask\"].sum(axis=1).max())\n",
    "    for k, v in inputs.items():\n",
    "        inputs[k] = inputs[k][:,:mask_len]\n",
    "    return inputs"
   ]
  },
  {
   "cell_type": "code",
   "execution_count": 9,
   "id": "46d7110c-ec91-4eaa-9d29-9524425af1e0",
   "metadata": {},
   "outputs": [],
   "source": [
    "class FB3Dataset_v2(Dataset):\n",
    "    def __init__(self, df, train=False):\n",
    "        self.texts = df['full_text'].values\n",
    "        self.labels = df[CFG.TARGETS].values\n",
    "        self.train = train\n",
    "\n",
    "    def __len__(self):\n",
    "        return len(self.texts)\n",
    "\n",
    "    def __getitem__(self, item):\n",
    "        if self.train:\n",
    "            inputs = CFG.TOKENIZER.encode_plus(\n",
    "                self.texts[item], \n",
    "                return_tensors=None, \n",
    "                add_special_tokens = False,\n",
    "            )\n",
    "\n",
    "            if len(inputs['input_ids']) > CFG.MAX_LEN:\n",
    "                l = CFG.MAX_LEN - 2\n",
    "                start_i = random.sample(list(range(len(inputs['input_ids']) - l)), 1)\n",
    "                start_i = start_i[0]\n",
    "                inputs['input_ids'] = [1] + inputs['input_ids'][start_i:start_i+l] + [2]\n",
    "                inputs['attention_mask'] = [1] + inputs['attention_mask'][start_i:start_i+l] + [1]\n",
    "                inputs['token_type_ids'] = [0] + inputs['token_type_ids'][start_i:start_i+l] + [0]\n",
    "\n",
    "            pad = [0] * (CFG.MAX_LEN - len(inputs['input_ids']))\n",
    "            inputs['input_ids'] += pad\n",
    "            inputs['attention_mask'] += pad\n",
    "            inputs['token_type_ids'] += pad\n",
    "        else:\n",
    "            inputs = CFG.TOKENIZER.encode_plus(\n",
    "                self.texts[item], \n",
    "                return_tensors=None, \n",
    "                add_special_tokens=True, \n",
    "                max_length=CFG.MAX_LEN,\n",
    "                pad_to_max_length=True,\n",
    "                truncation=True\n",
    "            )\n",
    "\n",
    "        for k, v in inputs.items():\n",
    "            inputs[k] = torch.tensor(v, dtype=torch.long) \n",
    "        label = torch.tensor(self.labels[item], dtype=torch.float)\n",
    "        return inputs, label"
   ]
  },
  {
   "cell_type": "code",
   "execution_count": 10,
   "id": "e3f0fdde-a695-4889-bd64-424f31d1aa35",
   "metadata": {},
   "outputs": [],
   "source": [
    "class WeightedLayerPooling(nn.Module):\n",
    "    def __init__(self, num_hidden_layers, layer_start: int = 4, layer_weights = None):\n",
    "        super(WeightedLayerPooling, self).__init__()\n",
    "        self.layer_start = layer_start\n",
    "        self.num_hidden_layers = num_hidden_layers\n",
    "        self.layer_weights = layer_weights if layer_weights is not None \\\n",
    "            else nn.Parameter(\n",
    "                torch.tensor([1] * (num_hidden_layers+1 - layer_start), dtype=torch.float)\n",
    "            )\n",
    "\n",
    "    def forward(self, all_hidden_states):\n",
    "        all_layer_embedding = all_hidden_states[self.layer_start:, :, :, :]\n",
    "        weight_factor = self.layer_weights.unsqueeze(-1).unsqueeze(-1).unsqueeze(-1).expand(all_layer_embedding.size())\n",
    "        weighted_average = (weight_factor*all_layer_embedding).sum(dim=0) / self.layer_weights.sum()\n",
    "        return weighted_average\n",
    "\n",
    "class MeanPooling(nn.Module):\n",
    "    def __init__(self):\n",
    "        super(MeanPooling, self).__init__()\n",
    "        \n",
    "    def forward(self, last_hidden_state, attention_mask):\n",
    "        input_mask_expanded = attention_mask.unsqueeze(-1).expand(last_hidden_state.size()).float()\n",
    "        sum_embeddings = torch.sum(last_hidden_state * input_mask_expanded, 1)\n",
    "        sum_mask = input_mask_expanded.sum(1)\n",
    "        sum_mask = torch.clamp(sum_mask, min=1e-9)\n",
    "        mean_embeddings = sum_embeddings / sum_mask\n",
    "        return mean_embeddings\n",
    "\n",
    "class CustomModel(nn.Module):\n",
    "    def __init__(self, model_name):\n",
    "        super().__init__()\n",
    "\n",
    "        self.config = AutoConfig.from_pretrained(model_name, output_hidden_states=True)\n",
    "        self.config.hidden_dropout = 0.\n",
    "        self.config.hidden_dropout_prob = 0.\n",
    "        self.config.attention_dropout = 0.\n",
    "        self.config.attention_probs_dropout_prob = 0.\n",
    "        self.config.num_hidden_layers = 4\n",
    "\n",
    "        self.model = AutoModel.from_pretrained(model_name, config=self.config)\n",
    "\n",
    "        if CFG.GRAD_CHECKPOINT:\n",
    "            self.model.gradient_checkpointing_enable()\n",
    "            \n",
    "        \n",
    "        layer_start = self.config.num_hidden_layers\n",
    "        self.layer_pool = WeightedLayerPooling(\n",
    "            self.config.num_hidden_layers, \n",
    "            layer_start=layer_start, layer_weights=None\n",
    "        )\n",
    "        #self.lstm = nn.LSTM(self.config.hidden_size, self.config.hidden_size, batch_first=True)\n",
    "        \n",
    "        self.pool = MeanPooling()\n",
    "        self.fc = nn.Sequential(\n",
    "            nn.Linear(self.config.hidden_size, self.config.hidden_size),\n",
    "            nn.ReLU(),\n",
    "            nn.Linear(self.config.hidden_size, 6),\n",
    "        )\n",
    "        self._init_weights(self.fc)\n",
    "        #self.fc1 = nn.Sequential(\n",
    "        #    nn.Linear(self.config.hidden_size, self.config.hidden_size),\n",
    "        #    nn.ReLU(),\n",
    "        #    nn.Linear(self.config.hidden_size, 6),\n",
    "        #)\n",
    "        #self._init_weights(self.fc1)\n",
    "        #self.fc2 = nn.Sequential(\n",
    "        #    nn.Linear(self.config.hidden_size, self.config.hidden_size),\n",
    "        #    nn.ReLU(),\n",
    "        #    nn.Linear(self.config.hidden_size, 6),\n",
    "        #)\n",
    "        #self._init_weights(self.fc2)\n",
    "        \n",
    "        # reinit_layers\n",
    "        reinit_layer = 1\n",
    "        if reinit_layer > 0:\n",
    "            for layer in self.model.encoder.layer[-reinit_layer:]:\n",
    "                for module in layer.modules():\n",
    "                    if isinstance(module, nn.Linear):\n",
    "                        module.weight.data.normal_(mean=0.0, std=self.config.initializer_range)\n",
    "                        if module.bias is not None:\n",
    "                            module.bias.data.zero_()\n",
    "                    elif isinstance(module, nn.Embedding):\n",
    "                        module.weight.data.normal_(mean=0.0, std=self.config.initializer_range)\n",
    "                        if module.padding_idx is not None:\n",
    "                            module.weight.data[module.padding_idx].zero_()\n",
    "                    elif isinstance(module, nn.LayerNorm):\n",
    "                        module.bias.data.zero_()\n",
    "                        module.weight.data.fill_(1.0)\n",
    "        \n",
    "    def _init_weights(self, module):\n",
    "        if isinstance(module, nn.Linear):\n",
    "            module.weight.data.normal_(mean=0.0, std=self.config.initializer_range)\n",
    "            if module.bias is not None:\n",
    "                module.bias.data.zero_()\n",
    "        elif isinstance(module, nn.Embedding):\n",
    "            module.weight.data.normal_(mean=0.0, std=self.config.initializer_range)\n",
    "            if module.padding_idx is not None:\n",
    "                module.weight.data[module.padding_idx].zero_()\n",
    "        elif isinstance(module, nn.LayerNorm):\n",
    "            module.bias.data.zero_()\n",
    "            module.weight.data.fill_(1.0)\n",
    "\n",
    "    def forward(self, inputs):\n",
    "        outputs = self.model(**inputs)\n",
    "\n",
    "        pooling_embeddings = outputs[0]\n",
    "        #all_hidden_states = torch.stack(outputs[1])\n",
    "        #pooling_embeddings = self.layer_pool(all_hidden_states)\n",
    "        \n",
    "        #out, _ = self.lstm(pooling_embeddings, None)\n",
    "        #pooling_embeddings = out #.swapaxes(1, 2)\n",
    "\n",
    "        feature = self.pool(pooling_embeddings, inputs['attention_mask'])\n",
    "        #feature = pooling_embeddings[:, 0, :]\n",
    "        \n",
    "        output = self.fc(feature)\n",
    "        return output\n",
    "        #output1 = self.fc1(feature)\n",
    "        #output2 = self.fc2(feature)\n",
    "        #return output1, output2"
   ]
  },
  {
   "cell_type": "code",
   "execution_count": 11,
   "id": "04965d1e-61a2-43a2-b0d8-772da4bac40b",
   "metadata": {},
   "outputs": [],
   "source": [
    "class AverageMeter(object):\n",
    "    \"\"\"Computes and stores the average and current value\"\"\"\n",
    "    def __init__(self):\n",
    "        self.reset()\n",
    "\n",
    "    def reset(self):\n",
    "        self.val = 0\n",
    "        self.avg = 0\n",
    "        self.sum = 0\n",
    "        self.count = 0\n",
    "\n",
    "    def update(self, val, n=1):\n",
    "        self.val = val\n",
    "        self.sum += val * n\n",
    "        self.count += n\n",
    "        self.avg = self.sum / self.count\n",
    "        \n",
    "def MCRMSE(y_trues, y_preds):\n",
    "    scores = []\n",
    "    idxes = y_trues.shape[1]\n",
    "    for i in range(idxes):\n",
    "        y_true = y_trues[:,i]\n",
    "        y_pred = y_preds[:,i]\n",
    "        score = mean_squared_error(y_true, y_pred, squared=False) # RMSE\n",
    "        scores.append(score)\n",
    "    mcrmse_score = np.mean(scores)\n",
    "    return mcrmse_score, scores\n",
    "\n",
    "\n",
    "def get_score(y_trues, y_preds):\n",
    "    mcrmse_score, scores = MCRMSE(y_trues, y_preds)\n",
    "    return mcrmse_score, scores\n",
    "\n",
    "\n",
    "def seed_everything(seed=42):\n",
    "    random.seed(seed)\n",
    "    os.environ[\"PYTHONHASHSEED\"] = str(seed)\n",
    "    np.random.seed(seed)\n",
    "    torch.manual_seed(seed)\n",
    "    torch.cuda.manual_seed(seed)\n",
    "    torch.backends.cudnn.deterministic = True"
   ]
  },
  {
   "cell_type": "code",
   "execution_count": 12,
   "id": "9f34d456-be3b-445a-878e-2315c212a4b4",
   "metadata": {},
   "outputs": [],
   "source": [
    "\"\"\"\n",
    "def get_optimizer_params(model, encoder_lr, decoder_lr, weight_decay=0.0):\n",
    "    param_optimizer = list(model.named_parameters())\n",
    "    no_decay = [\"bias\", \"LayerNorm.bias\", \"LayerNorm.weight\"]\n",
    "    optimizer_parameters = [\n",
    "        {'params': [p for n, p in model.model.named_parameters() if not any(nd in n for nd in no_decay)],\n",
    "         'lr': encoder_lr, 'weight_decay': weight_decay},\n",
    "        {'params': [p for n, p in model.model.named_parameters() if any(nd in n for nd in no_decay)],\n",
    "         'lr': encoder_lr, 'weight_decay': 0.0},\n",
    "        {'params': [p for n, p in model.named_parameters() if \"model\" not in n],\n",
    "         'lr': decoder_lr, 'weight_decay': 0.0}\n",
    "    ]\n",
    "    return optimizer_parameters\n",
    "\"\"\"\n",
    "def get_optimizer_params(model, encoder_lr, decoder_lr, weight_decay=0.0):\n",
    "    no_decay = [\"bias\", \"LayerNorm.weight\"]\n",
    "    group1=['layer.0.']\n",
    "    group2=['layer.1.']    \n",
    "    group3=['layer.2.','layer.3.']\n",
    "    group_all=['layer.0.','layer.1.','layer.2.','layer.3.']\n",
    "    optimizer_grouped_parameters = [\n",
    "        {'params': [p for n, p in model.model.named_parameters() if not any(nd in n for nd in no_decay) and not any(nd in n for nd in group_all)],'weight_decay': weight_decay},\n",
    "        {'params': [p for n, p in model.model.named_parameters() if not any(nd in n for nd in no_decay) and any(nd in n for nd in group1)],'weight_decay': weight_decay, 'lr': encoder_lr/4.0},\n",
    "        {'params': [p for n, p in model.model.named_parameters() if not any(nd in n for nd in no_decay) and any(nd in n for nd in group2)],'weight_decay': weight_decay, 'lr': encoder_lr/2.0},\n",
    "        {'params': [p for n, p in model.model.named_parameters() if not any(nd in n for nd in no_decay) and any(nd in n for nd in group3)],'weight_decay': weight_decay, 'lr': encoder_lr},\n",
    "        {'params': [p for n, p in model.model.named_parameters() if any(nd in n for nd in no_decay) and not any(nd in n for nd in group_all)],'weight_decay': 0.0},\n",
    "        {'params': [p for n, p in model.model.named_parameters() if any(nd in n for nd in no_decay) and any(nd in n for nd in group1)],'weight_decay': 0.0, 'lr': encoder_lr/4.0},\n",
    "        {'params': [p for n, p in model.model.named_parameters() if any(nd in n for nd in no_decay) and any(nd in n for nd in group2)],'weight_decay': 0.0, 'lr': encoder_lr/2.0},\n",
    "        {'params': [p for n, p in model.model.named_parameters() if any(nd in n for nd in no_decay) and any(nd in n for nd in group3)],'weight_decay': 0.0, 'lr': encoder_lr},\n",
    "        {'params': [p for n, p in model.named_parameters() if \"model\" not in n], 'lr': decoder_lr, \"weight_decay\": 0.0},\n",
    "    ]\n",
    "    return optimizer_grouped_parameters"
   ]
  },
  {
   "cell_type": "code",
   "execution_count": 13,
   "id": "daaa179d-8ecb-4891-926e-d98509d46286",
   "metadata": {},
   "outputs": [],
   "source": [
    "def train_fn(epoch, train_loader, student, criterion, optimizer, scheduler):\n",
    "    student.train()\n",
    "\n",
    "    losses = AverageMeter()\n",
    "    global_step = 0\n",
    "    for step, (inputs, labels) in tqdm(enumerate(train_loader), total=len(train_loader)):\n",
    "        inputs = collate(inputs)\n",
    "        for k, v in inputs.items():\n",
    "            inputs[k] = v.to(device)\n",
    "        labels = labels.to(device)\n",
    "        \n",
    "        \n",
    "        batch_size = labels.size(0)\n",
    "        with torch.cuda.amp.autocast(enabled=is_gpu):\n",
    "            y_preds = student(inputs)\n",
    "            loss = criterion(y_preds, labels)\n",
    "            #y_preds1, y_preds2 = student(inputs)\n",
    "            #loss1 = criterion(y_preds1, torch.ceil(labels))\n",
    "            #loss2 = criterion(y_preds2, torch.floor(labels))\n",
    "            #loss = loss1 + loss2\n",
    "\n",
    "\n",
    "        if CFG.ACCUMLATION > 1:\n",
    "            loss = loss / CFG.ACCUMLATION\n",
    "            \n",
    "        losses.update(loss.item(), batch_size)\n",
    "        scaler.scale(loss).backward()\n",
    "        scaler.unscale_(optimizer)\n",
    "        grad_norm = torch.nn.utils.clip_grad_norm_(student.parameters(), CFG.GRAD_NORM)\n",
    "        \n",
    "        if (step + 1) % CFG.ACCUMLATION == 0:\n",
    "            scaler.step(optimizer)\n",
    "            scaler.update()\n",
    "            optimizer.zero_grad()\n",
    "            global_step += 1\n",
    "            scheduler.step()\n",
    "                \n",
    "    return losses.avg\n",
    "\n",
    "def valid_fn(valid_loader, model, criterion):\n",
    "    losses = AverageMeter()\n",
    "    model.eval()\n",
    "    preds = []\n",
    "    for step, (inputs, labels) in enumerate(valid_loader):\n",
    "        inputs = collate(inputs)\n",
    "        for k, v in inputs.items():\n",
    "            inputs[k] = v.to(device)\n",
    "        labels = labels.to(device)\n",
    "        batch_size = labels.size(0)\n",
    "        with torch.no_grad():\n",
    "            y_preds = model(inputs)\n",
    "            #y_preds1, y_preds2 = model(inputs)\n",
    "            #y_preds = (y_preds1 + y_preds2) / 2\n",
    "            loss = criterion(y_preds, labels)\n",
    "            \n",
    "        if CFG.ACCUMLATION > 1:\n",
    "            loss = loss / CFG.ACCUMLATION\n",
    "        losses.update(loss.item(), batch_size)\n",
    "        preds.append(y_preds.to('cpu').numpy())\n",
    "\n",
    "    predictions = np.concatenate(preds)\n",
    "    return losses.avg, predictions"
   ]
  },
  {
   "cell_type": "code",
   "execution_count": 14,
   "id": "c16b0639-ab8c-4a74-9191-6c7fd8c3baa8",
   "metadata": {},
   "outputs": [],
   "source": [
    "from torch.optim.swa_utils import AveragedModel, SWALR\n",
    "\n",
    "def swa_fn(epoch, train_loader, model, swa_model, criterion, optimizer, scheduler):\n",
    "    model.train()\n",
    "\n",
    "    losses = AverageMeter()\n",
    "    global_step = 0\n",
    "    for step, (inputs, labels) in tqdm(enumerate(train_loader), total=len(train_loader)):\n",
    "        inputs = collate(inputs)\n",
    "        for k, v in inputs.items():\n",
    "            inputs[k] = v.to(device)\n",
    "        labels = labels.to(device)\n",
    "        \n",
    "        batch_size = labels.size(0)\n",
    "        with torch.cuda.amp.autocast(enabled=is_gpu):\n",
    "            y_preds = model(inputs)\n",
    "            loss = criterion(y_preds, labels)\n",
    "            \n",
    "        if CFG.ACCUMLATION > 1:\n",
    "            loss = loss / CFG.ACCUMLATION\n",
    "            \n",
    "        losses.update(loss.item(), batch_size)\n",
    "        scaler.scale(loss).backward()\n",
    "\n",
    "\n",
    "        scaler.unscale_(optimizer)\n",
    "        grad_norm = torch.nn.utils.clip_grad_norm_(model.parameters(), CFG.GRAD_NORM)\n",
    "        \n",
    "        if (step + 1) % CFG.ACCUMLATION == 0:\n",
    "            scaler.step(optimizer)\n",
    "            scaler.update()\n",
    "            swa_model.update_parameters(model)\n",
    "            \n",
    "            optimizer.zero_grad()\n",
    "            global_step += 1\n",
    "            scheduler.step()\n",
    "                \n",
    "    return losses.avg"
   ]
  },
  {
   "cell_type": "code",
   "execution_count": 15,
   "id": "d51a3689-7995-416f-94b5-bc9846bd9400",
   "metadata": {},
   "outputs": [],
   "source": [
    "class CustomLoss(nn.Module):\n",
    "    def __init__(self, eps, mask):\n",
    "        super(CustomLoss, self).__init__()\n",
    "        self.eps = eps\n",
    "        self.mask = mask\n",
    "\n",
    "    def forward(self, outputs, targets):\n",
    "        loss = nn.MSELoss(reduction='none')(outputs, targets)\n",
    "\n",
    "        if self.mask is None:\n",
    "            loss = torch.mean(torch.clamp(loss - self.eps**2, min=0))\n",
    "        else:\n",
    "            loss = torch.mean(torch.clamp(loss - self.eps**2, min=0, max=self.mask**2))\n",
    "\n",
    "        return loss"
   ]
  },
  {
   "cell_type": "code",
   "execution_count": 16,
   "id": "b52bee9a-87da-4b27-b4dd-cd5b66b49756",
   "metadata": {},
   "outputs": [],
   "source": [
    "from torch.optim import Optimizer\n",
    "\n",
    "class PriorWD(Optimizer):\n",
    "    def __init__(self, optim, use_prior_wd=False, exclude_last_group=True):\n",
    "        super(PriorWD, self).__init__(optim.param_groups, optim.defaults)\n",
    "        self.param_groups = optim.param_groups\n",
    "        self.optim = optim\n",
    "        self.use_prior_wd = use_prior_wd\n",
    "        self.exclude_last_group = exclude_last_group\n",
    "        self.weight_decay_by_group = []\n",
    "        for i, group in enumerate(self.param_groups):\n",
    "            self.weight_decay_by_group.append(group[\"weight_decay\"])\n",
    "            group[\"weight_decay\"] = 0\n",
    "\n",
    "        self.prior_params = {}\n",
    "        for i, group in enumerate(self.param_groups):\n",
    "            for p in group[\"params\"]:\n",
    "                self.prior_params[id(p)] = p.detach().clone()\n",
    "\n",
    "    def step(self, closure=None):\n",
    "        if self.use_prior_wd:\n",
    "            for i, group in enumerate(self.param_groups):\n",
    "                for p in group[\"params\"]:\n",
    "                    if self.exclude_last_group and i == len(self.param_groups):\n",
    "                        p.data.add_(-group[\"lr\"] * self.weight_decay_by_group[i], p.data)\n",
    "                    else:\n",
    "                        p.data.add_(\n",
    "                            -group[\"lr\"] * self.weight_decay_by_group[i], p.data - self.prior_params[id(p)],\n",
    "                        )\n",
    "        loss = self.optim.step(closure)\n",
    "\n",
    "        return loss\n",
    "\n",
    "    def compute_distance_to_prior(self, param):\n",
    "        assert id(param) in self.prior_params, \"parameter not in PriorWD optimizer\"\n",
    "        return (param.data - self.prior_params[id(param)]).pow(2).sum().sqrt()"
   ]
  },
  {
   "cell_type": "code",
   "execution_count": 21,
   "id": "d953faad-aaca-41fa-9283-50b624cf7d68",
   "metadata": {},
   "outputs": [],
   "source": [
    "def train_loop(fold, seed):\n",
    "    if fold == \"ALL\":\n",
    "        text_for_distillation_df[CFG.TARGETS] = all_pseudo_vecs_fold.mean(0).mean(0)\n",
    "        valid_df = org_train_df\n",
    "        train_df = text_for_distillation_df\n",
    "    else:\n",
    "        text_for_distillation_df[CFG.TARGETS] = all_pseudo_vecs_fold[:, fold, :, :].mean(0)\n",
    "        #text_for_distillation_df[CFG.TARGETS] = all_pseudo_vecs_fold[[1,2,3,5,6,8], fold, :, :].mean(0)\n",
    "        #text_for_distillation_df[CFG.TARGETS] = all_pseudo_vecs_fold[[0,1,2], fold, :, :].mean(0)\n",
    "        valid_df = org_train_df.query(f\"fold=={fold}\")\n",
    "        train_df = text_for_distillation_df.query(f\"fold!={fold}\")\n",
    "\n",
    "    valid_labels = valid_df[CFG.TARGETS].values\n",
    "    train_dataset = FB3Dataset(train_df, train=True)\n",
    "    valid_dataset = FB3Dataset(valid_df, train=False)\n",
    "    train_loader = DataLoader(train_dataset,\n",
    "                              batch_size=CFG.BS,\n",
    "                              shuffle=True,\n",
    "                              num_workers=CFG.N_WORKER, pin_memory=True, drop_last=True)\n",
    "    valid_loader = DataLoader(valid_dataset,\n",
    "                              batch_size=CFG.BS,\n",
    "                              shuffle=False,\n",
    "                              num_workers=CFG.N_WORKER, pin_memory=True, drop_last=False)\n",
    "\n",
    "    student = CustomModel(CFG.MODEL_NAME)\n",
    "    torch.save(student.config, CFG.OUTPUT + 'config.pth')\n",
    "    student.to(device)\n",
    "\n",
    "    optimizer_parameters = get_optimizer_params(student,\n",
    "                                                encoder_lr=CFG.ENCODER_LR, \n",
    "                                                decoder_lr=CFG.DECODER_LR,\n",
    "                                                weight_decay=CFG.WEIGHT_DECAY)\n",
    "\n",
    "    optimizer = AdamW(optimizer_parameters, lr=CFG.ENCODER_LR, eps=CFG.EPS, betas=CFG.BETAS, correct_bias=True)\n",
    "    optimizer = PriorWD(optimizer, use_prior_wd=True)\n",
    "\n",
    "    num_train_steps = int(len(train_dataset) / CFG.BS * CFG.N_EPOCH)\n",
    "    scheduler = get_cosine_schedule_with_warmup(\n",
    "            optimizer, num_warmup_steps=CFG.N_WARMUP, num_training_steps=num_train_steps, num_cycles=CFG.N_CYCLES\n",
    "    )\n",
    "    #criterion = nn.SmoothL1Loss(reduction='mean', beta=1.0)\n",
    "    #criterion = nn.HuberLoss(reduction='mean', delta=1.0)\n",
    "    #criterion = svm_loss\n",
    "    criterion = CustomLoss(eps=0.1, mask=None)\n",
    "\n",
    "    swa_model = AveragedModel(student)\n",
    "    swa_scheduler = SWALR(optimizer, swa_lr=1e-6)\n",
    "\n",
    "    best_score = float(\"inf\")\n",
    "    best_predictions = None\n",
    "    results = []\n",
    "    for epoch in range(CFG.N_EPOCH):\n",
    "        if epoch == 7:\n",
    "            mask = 1.5\n",
    "            print(f'eps=0.0, mask={mask}')\n",
    "            criterion = CustomLoss(eps=0.0, mask=mask)\n",
    "\n",
    "        if epoch < 45:\n",
    "            avg_loss = train_fn(epoch, train_loader, student, criterion, optimizer, scheduler)\n",
    "            avg_val_loss, predictions = valid_fn(valid_loader, student, criterion)\n",
    "        else:\n",
    "            avg_loss = swa_fn(epoch, train_loader, student, swa_model, criterion, optimizer, swa_scheduler)\n",
    "            avg_val_loss, predictions = valid_fn(valid_loader, swa_model, criterion)\n",
    "\n",
    "        score, _ = get_score(valid_labels, predictions)\n",
    "        \n",
    "        if best_score > score:\n",
    "            best_score = score\n",
    "            best_predictions = predictions\n",
    "            torch.save({'model': student.state_dict(),\n",
    "                        'predictions': predictions},\n",
    "                         f\"{CFG.OUTPUT}/{CFG.MODEL_NAME.replace('/', '-')}_seed{seed}_fold{fold}_best.pth\")\n",
    "        print(f\"[Fold-{fold}] epoch-{epoch}: score={score}\")\n",
    "        results.append((fold, epoch, score, best_score))\n",
    "\n",
    "        if fold == \"ALL\" and epoch > 0:\n",
    "            torch.save({'model': student.state_dict(),\n",
    "                        'predictions': predictions},\n",
    "                        f\"{CFG.OUTPUT}/{CFG.MODEL_NAME.replace('/', '-')}_seed{seed}_fold{fold}_epoch{epoch}.pth\")\n",
    "        torch.cuda.empty_cache()\n",
    "        gc.collect()\n",
    "        \n",
    "    return best_score, results"
   ]
  },
  {
   "cell_type": "code",
   "execution_count": 22,
   "id": "e6cf0506-65f8-4765-ba48-9a64c889b59d",
   "metadata": {},
   "outputs": [],
   "source": [
    "def main(seed):\n",
    "    scores = []\n",
    "    results_lst = []\n",
    "    for fold in range(CFG.N_FOLD):\n",
    "        if fold in CFG.SKIP_FOLDS:\n",
    "            continue\n",
    "        seed_everything(seed)\n",
    "        score, results = train_loop(fold, seed)\n",
    "        scores.append(score)\n",
    "        results_lst += results\n",
    "    print(scores)\n",
    "    print(sum(scores) / CFG.N_FOLD)\n",
    "\n",
    "    pd.DataFrame(results_lst, columns=['fold',  'epoch', 'score', 'best_score']).to_csv(f\"{CFG.OUTPUT}/result.csv\", index=None)"
   ]
  },
  {
   "cell_type": "code",
   "execution_count": 23,
   "id": "3094bc2c-65fe-4281-bb85-adee15a27cbd",
   "metadata": {},
   "outputs": [],
   "source": [
    "#if __name__ == '__main__':\n",
    "#    main(CFG.LOCAL_SEED)"
   ]
  },
  {
   "cell_type": "code",
   "execution_count": 24,
   "id": "72243ecf-75e7-46ec-bbd2-9722c220d6bf",
   "metadata": {},
   "outputs": [
    {
     "name": "stderr",
     "output_type": "stream",
     "text": [
      "Some weights of the model checkpoint at microsoft/deberta-v3-xsmall were not used when initializing DebertaV2Model: ['deberta.encoder.layer.7.intermediate.dense.weight', 'deberta.encoder.layer.6.attention.output.LayerNorm.weight', 'deberta.encoder.layer.6.output.LayerNorm.bias', 'deberta.encoder.layer.5.output.LayerNorm.bias', 'deberta.encoder.layer.11.attention.output.dense.weight', 'deberta.encoder.layer.4.attention.self.query_proj.weight', 'deberta.encoder.layer.7.output.LayerNorm.weight', 'deberta.encoder.layer.8.attention.output.LayerNorm.weight', 'deberta.encoder.layer.4.attention.self.value_proj.bias', 'deberta.encoder.layer.4.output.LayerNorm.bias', 'deberta.encoder.layer.10.intermediate.dense.weight', 'mask_predictions.LayerNorm.bias', 'deberta.encoder.layer.11.attention.self.value_proj.weight', 'deberta.encoder.layer.7.attention.output.LayerNorm.weight', 'deberta.encoder.layer.8.attention.self.value_proj.bias', 'deberta.encoder.layer.11.intermediate.dense.bias', 'deberta.encoder.layer.10.attention.self.query_proj.weight', 'deberta.encoder.layer.4.attention.output.dense.weight', 'deberta.encoder.layer.8.output.dense.weight', 'deberta.encoder.layer.9.attention.output.dense.bias', 'deberta.encoder.layer.4.attention.self.key_proj.bias', 'deberta.encoder.layer.6.attention.self.value_proj.bias', 'deberta.encoder.layer.9.attention.self.query_proj.bias', 'deberta.encoder.layer.10.output.dense.weight', 'deberta.encoder.layer.8.attention.output.dense.bias', 'deberta.encoder.layer.10.attention.self.key_proj.weight', 'lm_predictions.lm_head.dense.bias', 'deberta.encoder.layer.6.intermediate.dense.bias', 'deberta.encoder.layer.8.attention.self.query_proj.weight', 'deberta.encoder.layer.10.attention.self.value_proj.bias', 'deberta.encoder.layer.4.intermediate.dense.weight', 'deberta.encoder.layer.10.output.LayerNorm.bias', 'deberta.encoder.layer.10.intermediate.dense.bias', 'deberta.encoder.layer.11.attention.output.LayerNorm.bias', 'lm_predictions.lm_head.bias', 'mask_predictions.dense.bias', 'deberta.encoder.layer.10.attention.output.LayerNorm.bias', 'deberta.encoder.layer.11.attention.self.key_proj.bias', 'deberta.encoder.layer.5.attention.self.value_proj.weight', 'deberta.encoder.layer.10.output.dense.bias', 'deberta.encoder.layer.11.output.dense.weight', 'deberta.encoder.layer.8.intermediate.dense.weight', 'deberta.encoder.layer.10.output.LayerNorm.weight', 'mask_predictions.LayerNorm.weight', 'deberta.encoder.layer.10.attention.self.value_proj.weight', 'mask_predictions.classifier.bias', 'deberta.encoder.layer.6.attention.self.query_proj.bias', 'deberta.encoder.layer.4.output.dense.bias', 'deberta.encoder.layer.7.attention.self.value_proj.bias', 'deberta.encoder.layer.5.attention.self.key_proj.weight', 'mask_predictions.classifier.weight', 'deberta.encoder.layer.6.attention.self.query_proj.weight', 'deberta.encoder.layer.7.attention.self.key_proj.bias', 'deberta.encoder.layer.6.attention.output.dense.bias', 'deberta.encoder.layer.10.attention.self.key_proj.bias', 'deberta.encoder.layer.7.intermediate.dense.bias', 'deberta.encoder.layer.8.attention.self.value_proj.weight', 'deberta.encoder.layer.7.output.dense.weight', 'deberta.encoder.layer.9.attention.self.key_proj.weight', 'deberta.encoder.layer.6.intermediate.dense.weight', 'deberta.encoder.layer.4.attention.self.value_proj.weight', 'deberta.encoder.layer.9.attention.self.query_proj.weight', 'deberta.encoder.layer.6.output.dense.weight', 'deberta.encoder.layer.11.attention.output.dense.bias', 'deberta.encoder.layer.9.intermediate.dense.weight', 'deberta.encoder.layer.11.attention.output.LayerNorm.weight', 'lm_predictions.lm_head.LayerNorm.weight', 'deberta.encoder.layer.7.attention.self.query_proj.bias', 'deberta.encoder.layer.6.attention.self.value_proj.weight', 'deberta.encoder.layer.6.output.dense.bias', 'deberta.encoder.layer.5.attention.self.query_proj.weight', 'deberta.encoder.layer.5.output.dense.bias', 'deberta.encoder.layer.7.attention.self.value_proj.weight', 'deberta.encoder.layer.8.intermediate.dense.bias', 'deberta.encoder.layer.9.attention.output.dense.weight', 'deberta.embeddings.word_embeddings._weight', 'deberta.encoder.layer.5.attention.output.dense.bias', 'deberta.encoder.layer.9.attention.self.key_proj.bias', 'deberta.encoder.layer.11.attention.self.query_proj.weight', 'deberta.encoder.layer.6.output.LayerNorm.weight', 'deberta.encoder.layer.7.attention.output.dense.weight', 'deberta.encoder.layer.7.attention.output.dense.bias', 'deberta.encoder.layer.9.output.LayerNorm.weight', 'deberta.encoder.layer.5.output.LayerNorm.weight', 'deberta.encoder.layer.6.attention.self.key_proj.bias', 'deberta.encoder.layer.7.output.LayerNorm.bias', 'deberta.encoder.layer.10.attention.output.dense.bias', 'deberta.encoder.layer.5.attention.self.value_proj.bias', 'deberta.encoder.layer.4.output.dense.weight', 'deberta.encoder.layer.5.attention.output.dense.weight', 'deberta.encoder.layer.11.output.dense.bias', 'deberta.encoder.layer.4.attention.self.key_proj.weight', 'lm_predictions.lm_head.dense.weight', 'deberta.encoder.layer.8.attention.self.query_proj.bias', 'deberta.encoder.layer.10.attention.self.query_proj.bias', 'deberta.encoder.layer.4.attention.output.dense.bias', 'deberta.encoder.layer.4.output.LayerNorm.weight', 'deberta.encoder.layer.9.attention.self.value_proj.bias', 'deberta.encoder.layer.9.output.dense.bias', 'deberta.encoder.layer.5.attention.output.LayerNorm.weight', 'deberta.encoder.layer.8.output.dense.bias', 'deberta.encoder.layer.4.attention.self.query_proj.bias', 'lm_predictions.lm_head.LayerNorm.bias', 'deberta.encoder.layer.8.output.LayerNorm.weight', 'deberta.encoder.layer.5.intermediate.dense.bias', 'deberta.encoder.layer.9.attention.self.value_proj.weight', 'deberta.encoder.layer.7.attention.output.LayerNorm.bias', 'deberta.encoder.layer.8.attention.output.dense.weight', 'deberta.encoder.layer.10.attention.output.LayerNorm.weight', 'deberta.encoder.layer.5.attention.self.query_proj.bias', 'deberta.encoder.layer.5.output.dense.weight', 'deberta.encoder.layer.11.attention.self.key_proj.weight', 'deberta.encoder.layer.7.attention.self.key_proj.weight', 'deberta.encoder.layer.8.attention.self.key_proj.weight', 'deberta.encoder.layer.8.output.LayerNorm.bias', 'deberta.encoder.layer.9.output.dense.weight', 'deberta.encoder.layer.7.output.dense.bias', 'mask_predictions.dense.weight', 'deberta.encoder.layer.9.intermediate.dense.bias', 'deberta.encoder.layer.10.attention.output.dense.weight', 'deberta.encoder.layer.4.intermediate.dense.bias', 'deberta.encoder.layer.4.attention.output.LayerNorm.weight', 'deberta.encoder.layer.5.attention.output.LayerNorm.bias', 'deberta.encoder.layer.11.intermediate.dense.weight', 'deberta.encoder.layer.5.attention.self.key_proj.bias', 'deberta.encoder.layer.5.intermediate.dense.weight', 'deberta.encoder.layer.8.attention.self.key_proj.bias', 'deberta.encoder.layer.9.attention.output.LayerNorm.bias', 'deberta.encoder.layer.11.output.LayerNorm.weight', 'deberta.encoder.layer.11.attention.self.query_proj.bias', 'deberta.encoder.layer.4.attention.output.LayerNorm.bias', 'deberta.encoder.layer.9.attention.output.LayerNorm.weight', 'deberta.encoder.layer.8.attention.output.LayerNorm.bias', 'deberta.encoder.layer.7.attention.self.query_proj.weight', 'deberta.encoder.layer.11.attention.self.value_proj.bias', 'deberta.encoder.layer.6.attention.output.dense.weight', 'deberta.encoder.layer.6.attention.self.key_proj.weight', 'deberta.encoder.layer.6.attention.output.LayerNorm.bias', 'deberta.encoder.layer.11.output.LayerNorm.bias', 'deberta.encoder.layer.9.output.LayerNorm.bias']\n",
      "- This IS expected if you are initializing DebertaV2Model from the checkpoint of a model trained on another task or with another architecture (e.g. initializing a BertForSequenceClassification model from a BertForPreTraining model).\n",
      "- This IS NOT expected if you are initializing DebertaV2Model from the checkpoint of a model that you expect to be exactly identical (initializing a BertForSequenceClassification model from a BertForSequenceClassification model).\n"
     ]
    },
    {
     "data": {
      "application/vnd.jupyter.widget-view+json": {
       "model_id": "a0aad76682c547d0b472c6e8ed41e15a",
       "version_major": 2,
       "version_minor": 0
      },
      "text/plain": [
       "  0%|          | 0/124 [00:00<?, ?it/s]"
      ]
     },
     "metadata": {},
     "output_type": "display_data"
    },
    {
     "name": "stdout",
     "output_type": "stream",
     "text": [
      "[Fold-ALL] epoch-0: score=0.5132259895808844\n"
     ]
    },
    {
     "data": {
      "application/vnd.jupyter.widget-view+json": {
       "model_id": "dbcee174850045a4ad782ed05c4747b6",
       "version_major": 2,
       "version_minor": 0
      },
      "text/plain": [
       "  0%|          | 0/124 [00:00<?, ?it/s]"
      ]
     },
     "metadata": {},
     "output_type": "display_data"
    },
    {
     "name": "stdout",
     "output_type": "stream",
     "text": [
      "[Fold-ALL] epoch-1: score=0.4848833539141923\n"
     ]
    },
    {
     "data": {
      "application/vnd.jupyter.widget-view+json": {
       "model_id": "e4138024d1164ac698cff5cd9d7b3aed",
       "version_major": 2,
       "version_minor": 0
      },
      "text/plain": [
       "  0%|          | 0/124 [00:00<?, ?it/s]"
      ]
     },
     "metadata": {},
     "output_type": "display_data"
    },
    {
     "name": "stdout",
     "output_type": "stream",
     "text": [
      "[Fold-ALL] epoch-2: score=0.4939199873921862\n"
     ]
    },
    {
     "data": {
      "application/vnd.jupyter.widget-view+json": {
       "model_id": "042416ba419b4cafa541d5fbe42038dd",
       "version_major": 2,
       "version_minor": 0
      },
      "text/plain": [
       "  0%|          | 0/124 [00:00<?, ?it/s]"
      ]
     },
     "metadata": {},
     "output_type": "display_data"
    },
    {
     "name": "stdout",
     "output_type": "stream",
     "text": [
      "[Fold-ALL] epoch-3: score=0.47949929313301914\n"
     ]
    },
    {
     "data": {
      "application/vnd.jupyter.widget-view+json": {
       "model_id": "aaa42fa54f444eb98c59a187b77093cf",
       "version_major": 2,
       "version_minor": 0
      },
      "text/plain": [
       "  0%|          | 0/124 [00:00<?, ?it/s]"
      ]
     },
     "metadata": {},
     "output_type": "display_data"
    },
    {
     "name": "stdout",
     "output_type": "stream",
     "text": [
      "[Fold-ALL] epoch-4: score=0.46986867856192305\n"
     ]
    },
    {
     "data": {
      "application/vnd.jupyter.widget-view+json": {
       "model_id": "50388e3afa054ffd9858ebbaaa4829a5",
       "version_major": 2,
       "version_minor": 0
      },
      "text/plain": [
       "  0%|          | 0/124 [00:00<?, ?it/s]"
      ]
     },
     "metadata": {},
     "output_type": "display_data"
    },
    {
     "name": "stdout",
     "output_type": "stream",
     "text": [
      "[Fold-ALL] epoch-5: score=0.460802145826348\n"
     ]
    },
    {
     "data": {
      "application/vnd.jupyter.widget-view+json": {
       "model_id": "1c67431a853a4c4d8eeaa390784dea3c",
       "version_major": 2,
       "version_minor": 0
      },
      "text/plain": [
       "  0%|          | 0/124 [00:00<?, ?it/s]"
      ]
     },
     "metadata": {},
     "output_type": "display_data"
    },
    {
     "name": "stdout",
     "output_type": "stream",
     "text": [
      "[Fold-ALL] epoch-6: score=0.45923104084146465\n",
      "eps=0.0, mask=1.5\n"
     ]
    },
    {
     "data": {
      "application/vnd.jupyter.widget-view+json": {
       "model_id": "d3123225c6024e8cb5c0ac3c5fd12ad8",
       "version_major": 2,
       "version_minor": 0
      },
      "text/plain": [
       "  0%|          | 0/124 [00:00<?, ?it/s]"
      ]
     },
     "metadata": {},
     "output_type": "display_data"
    },
    {
     "name": "stdout",
     "output_type": "stream",
     "text": [
      "[Fold-ALL] epoch-7: score=0.4684564534171394\n"
     ]
    },
    {
     "data": {
      "application/vnd.jupyter.widget-view+json": {
       "model_id": "a9f0f517ba0f4fd3a1fa66f1be936d53",
       "version_major": 2,
       "version_minor": 0
      },
      "text/plain": [
       "  0%|          | 0/124 [00:00<?, ?it/s]"
      ]
     },
     "metadata": {},
     "output_type": "display_data"
    },
    {
     "name": "stdout",
     "output_type": "stream",
     "text": [
      "[Fold-ALL] epoch-8: score=0.4568428280442017\n"
     ]
    },
    {
     "data": {
      "application/vnd.jupyter.widget-view+json": {
       "model_id": "e651fa3d08eb4e08bf02613c7a9d96b0",
       "version_major": 2,
       "version_minor": 0
      },
      "text/plain": [
       "  0%|          | 0/124 [00:00<?, ?it/s]"
      ]
     },
     "metadata": {},
     "output_type": "display_data"
    },
    {
     "name": "stdout",
     "output_type": "stream",
     "text": [
      "[Fold-ALL] epoch-9: score=0.45839842399443725\n"
     ]
    },
    {
     "data": {
      "application/vnd.jupyter.widget-view+json": {
       "model_id": "5b4e79a75b704069b3ca01b56379999a",
       "version_major": 2,
       "version_minor": 0
      },
      "text/plain": [
       "  0%|          | 0/124 [00:00<?, ?it/s]"
      ]
     },
     "metadata": {},
     "output_type": "display_data"
    },
    {
     "name": "stdout",
     "output_type": "stream",
     "text": [
      "[Fold-ALL] epoch-10: score=0.4468800707690845\n"
     ]
    },
    {
     "data": {
      "application/vnd.jupyter.widget-view+json": {
       "model_id": "e057dadc904b4643aa7ec65a8701403c",
       "version_major": 2,
       "version_minor": 0
      },
      "text/plain": [
       "  0%|          | 0/124 [00:00<?, ?it/s]"
      ]
     },
     "metadata": {},
     "output_type": "display_data"
    },
    {
     "name": "stdout",
     "output_type": "stream",
     "text": [
      "[Fold-ALL] epoch-11: score=0.4481169937280405\n"
     ]
    },
    {
     "data": {
      "application/vnd.jupyter.widget-view+json": {
       "model_id": "a257609d05324cd19bedf688d69957b0",
       "version_major": 2,
       "version_minor": 0
      },
      "text/plain": [
       "  0%|          | 0/124 [00:00<?, ?it/s]"
      ]
     },
     "metadata": {},
     "output_type": "display_data"
    },
    {
     "name": "stdout",
     "output_type": "stream",
     "text": [
      "[Fold-ALL] epoch-12: score=0.44458947634972557\n"
     ]
    },
    {
     "data": {
      "application/vnd.jupyter.widget-view+json": {
       "model_id": "1c8316a286f84e70b250afc601c5e65d",
       "version_major": 2,
       "version_minor": 0
      },
      "text/plain": [
       "  0%|          | 0/124 [00:00<?, ?it/s]"
      ]
     },
     "metadata": {},
     "output_type": "display_data"
    },
    {
     "name": "stdout",
     "output_type": "stream",
     "text": [
      "[Fold-ALL] epoch-13: score=0.44607483599008174\n"
     ]
    },
    {
     "data": {
      "application/vnd.jupyter.widget-view+json": {
       "model_id": "c53acea8c3ce40cdacb3db3b7a777be8",
       "version_major": 2,
       "version_minor": 0
      },
      "text/plain": [
       "  0%|          | 0/124 [00:00<?, ?it/s]"
      ]
     },
     "metadata": {},
     "output_type": "display_data"
    },
    {
     "name": "stdout",
     "output_type": "stream",
     "text": [
      "[Fold-ALL] epoch-14: score=0.4418350059457903\n"
     ]
    },
    {
     "data": {
      "application/vnd.jupyter.widget-view+json": {
       "model_id": "5738777abe6a4f5ca846d1d88b5697fc",
       "version_major": 2,
       "version_minor": 0
      },
      "text/plain": [
       "  0%|          | 0/124 [00:00<?, ?it/s]"
      ]
     },
     "metadata": {},
     "output_type": "display_data"
    },
    {
     "name": "stdout",
     "output_type": "stream",
     "text": [
      "[Fold-ALL] epoch-15: score=0.44192090146740876\n",
      "0.4418350059457903\n"
     ]
    },
    {
     "data": {
      "text/html": [
       "<div>\n",
       "<style scoped>\n",
       "    .dataframe tbody tr th:only-of-type {\n",
       "        vertical-align: middle;\n",
       "    }\n",
       "\n",
       "    .dataframe tbody tr th {\n",
       "        vertical-align: top;\n",
       "    }\n",
       "\n",
       "    .dataframe thead th {\n",
       "        text-align: right;\n",
       "    }\n",
       "</style>\n",
       "<table border=\"1\" class=\"dataframe\">\n",
       "  <thead>\n",
       "    <tr style=\"text-align: right;\">\n",
       "      <th></th>\n",
       "      <th>fold</th>\n",
       "      <th>epoch</th>\n",
       "      <th>score</th>\n",
       "      <th>best_score</th>\n",
       "    </tr>\n",
       "  </thead>\n",
       "  <tbody>\n",
       "    <tr>\n",
       "      <th>0</th>\n",
       "      <td>ALL</td>\n",
       "      <td>0</td>\n",
       "      <td>0.513226</td>\n",
       "      <td>0.513226</td>\n",
       "    </tr>\n",
       "    <tr>\n",
       "      <th>1</th>\n",
       "      <td>ALL</td>\n",
       "      <td>1</td>\n",
       "      <td>0.484883</td>\n",
       "      <td>0.484883</td>\n",
       "    </tr>\n",
       "    <tr>\n",
       "      <th>2</th>\n",
       "      <td>ALL</td>\n",
       "      <td>2</td>\n",
       "      <td>0.493920</td>\n",
       "      <td>0.484883</td>\n",
       "    </tr>\n",
       "    <tr>\n",
       "      <th>3</th>\n",
       "      <td>ALL</td>\n",
       "      <td>3</td>\n",
       "      <td>0.479499</td>\n",
       "      <td>0.479499</td>\n",
       "    </tr>\n",
       "    <tr>\n",
       "      <th>4</th>\n",
       "      <td>ALL</td>\n",
       "      <td>4</td>\n",
       "      <td>0.469869</td>\n",
       "      <td>0.469869</td>\n",
       "    </tr>\n",
       "    <tr>\n",
       "      <th>5</th>\n",
       "      <td>ALL</td>\n",
       "      <td>5</td>\n",
       "      <td>0.460802</td>\n",
       "      <td>0.460802</td>\n",
       "    </tr>\n",
       "    <tr>\n",
       "      <th>6</th>\n",
       "      <td>ALL</td>\n",
       "      <td>6</td>\n",
       "      <td>0.459231</td>\n",
       "      <td>0.459231</td>\n",
       "    </tr>\n",
       "    <tr>\n",
       "      <th>7</th>\n",
       "      <td>ALL</td>\n",
       "      <td>7</td>\n",
       "      <td>0.468456</td>\n",
       "      <td>0.459231</td>\n",
       "    </tr>\n",
       "    <tr>\n",
       "      <th>8</th>\n",
       "      <td>ALL</td>\n",
       "      <td>8</td>\n",
       "      <td>0.456843</td>\n",
       "      <td>0.456843</td>\n",
       "    </tr>\n",
       "    <tr>\n",
       "      <th>9</th>\n",
       "      <td>ALL</td>\n",
       "      <td>9</td>\n",
       "      <td>0.458398</td>\n",
       "      <td>0.456843</td>\n",
       "    </tr>\n",
       "    <tr>\n",
       "      <th>10</th>\n",
       "      <td>ALL</td>\n",
       "      <td>10</td>\n",
       "      <td>0.446880</td>\n",
       "      <td>0.446880</td>\n",
       "    </tr>\n",
       "    <tr>\n",
       "      <th>11</th>\n",
       "      <td>ALL</td>\n",
       "      <td>11</td>\n",
       "      <td>0.448117</td>\n",
       "      <td>0.446880</td>\n",
       "    </tr>\n",
       "    <tr>\n",
       "      <th>12</th>\n",
       "      <td>ALL</td>\n",
       "      <td>12</td>\n",
       "      <td>0.444589</td>\n",
       "      <td>0.444589</td>\n",
       "    </tr>\n",
       "    <tr>\n",
       "      <th>13</th>\n",
       "      <td>ALL</td>\n",
       "      <td>13</td>\n",
       "      <td>0.446075</td>\n",
       "      <td>0.444589</td>\n",
       "    </tr>\n",
       "    <tr>\n",
       "      <th>14</th>\n",
       "      <td>ALL</td>\n",
       "      <td>14</td>\n",
       "      <td>0.441835</td>\n",
       "      <td>0.441835</td>\n",
       "    </tr>\n",
       "    <tr>\n",
       "      <th>15</th>\n",
       "      <td>ALL</td>\n",
       "      <td>15</td>\n",
       "      <td>0.441921</td>\n",
       "      <td>0.441835</td>\n",
       "    </tr>\n",
       "  </tbody>\n",
       "</table>\n",
       "</div>"
      ],
      "text/plain": [
       "   fold  epoch     score  best_score\n",
       "0   ALL      0  0.513226    0.513226\n",
       "1   ALL      1  0.484883    0.484883\n",
       "2   ALL      2  0.493920    0.484883\n",
       "3   ALL      3  0.479499    0.479499\n",
       "4   ALL      4  0.469869    0.469869\n",
       "5   ALL      5  0.460802    0.460802\n",
       "6   ALL      6  0.459231    0.459231\n",
       "7   ALL      7  0.468456    0.459231\n",
       "8   ALL      8  0.456843    0.456843\n",
       "9   ALL      9  0.458398    0.456843\n",
       "10  ALL     10  0.446880    0.446880\n",
       "11  ALL     11  0.448117    0.446880\n",
       "12  ALL     12  0.444589    0.444589\n",
       "13  ALL     13  0.446075    0.444589\n",
       "14  ALL     14  0.441835    0.441835\n",
       "15  ALL     15  0.441921    0.441835"
      ]
     },
     "metadata": {},
     "output_type": "display_data"
    },
    {
     "data": {
      "text/plain": [
       "<AxesSubplot:>"
      ]
     },
     "execution_count": 24,
     "metadata": {},
     "output_type": "execute_result"
    },
    {
     "data": {
      "image/png": "[encoded data removed]",
      "text/plain": [
       "<Figure size 432x288 with 1 Axes>"
      ]
     },
     "metadata": {
      "needs_background": "light"
     },
     "output_type": "display_data"
    }
   ],
   "source": [
    "seed_everything(0)\n",
    "score, results = train_loop(\"ALL\", 0)\n",
    "print(score)\n",
    "\n",
    "df = pd.DataFrame(results, columns=['fold',  'epoch', 'score', 'best_score'])\n",
    "df.columns=['fold',  'epoch', 'score', 'best_score']\n",
    "df.to_csv(f\"{CFG.OUTPUT}/result_all.csv\", index=None)\n",
    "display(df)\n",
    "\n",
    "df[['score', 'best_score']].plot()"
   ]
  },
  {
   "cell_type": "code",
   "execution_count": 25,
   "id": "f7754a72-8897-4700-a4fd-63feed7ae4e5",
   "metadata": {},
   "outputs": [
    {
     "name": "stdout",
     "output_type": "stream",
     "text": [
      "Starting upload for file microsoft-deberta-v3-xsmall_seed0_foldALL_epoch15.pth\n",
      "100%|████████████████████████████████████████| 216M/216M [00:09<00:00, 23.4MB/s]\n",
      "Upload successful: microsoft-deberta-v3-xsmall_seed0_foldALL_epoch15.pth (216MB)\n",
      "Starting upload for file microsoft-deberta-v3-xsmall_seed0_foldALL_epoch3.pth\n",
      "100%|████████████████████████████████████████| 216M/216M [00:07<00:00, 29.4MB/s]\n",
      "Upload successful: microsoft-deberta-v3-xsmall_seed0_foldALL_epoch3.pth (216MB)\n",
      "Starting upload for file config.pth\n",
      "100%|██████████████████████████████████████| 2.55k/2.55k [00:01<00:00, 1.40kB/s]\n",
      "Upload successful: config.pth (3KB)\n",
      "Starting upload for file microsoft-deberta-v3-xsmall_seed0_foldALL_epoch5.pth\n",
      "100%|████████████████████████████████████████| 216M/216M [00:06<00:00, 32.7MB/s]\n",
      "Upload successful: microsoft-deberta-v3-xsmall_seed0_foldALL_epoch5.pth (216MB)\n",
      "Starting upload for file microsoft-deberta-v3-xsmall_seed0_foldALL_epoch11.pth\n",
      "100%|████████████████████████████████████████| 216M/216M [00:07<00:00, 28.4MB/s]\n",
      "Upload successful: microsoft-deberta-v3-xsmall_seed0_foldALL_epoch11.pth (216MB)\n",
      "Starting upload for file microsoft-deberta-v3-xsmall_seed0_foldALL_best.pth\n",
      "100%|████████████████████████████████████████| 216M/216M [00:09<00:00, 23.3MB/s]\n",
      "Upload successful: microsoft-deberta-v3-xsmall_seed0_foldALL_best.pth (216MB)\n",
      "Starting upload for file microsoft-deberta-v3-xsmall_seed0_foldALL_epoch2.pth\n",
      "100%|████████████████████████████████████████| 216M/216M [00:08<00:00, 26.6MB/s]\n",
      "Upload successful: microsoft-deberta-v3-xsmall_seed0_foldALL_epoch2.pth (216MB)\n",
      "Skipping folder: tokenizer; use '--dir-mode' to upload folders\n",
      "Starting upload for file microsoft-deberta-v3-xsmall_seed0_foldALL_epoch7.pth\n",
      "100%|████████████████████████████████████████| 216M/216M [00:08<00:00, 28.0MB/s]\n",
      "Upload successful: microsoft-deberta-v3-xsmall_seed0_foldALL_epoch7.pth (216MB)\n",
      "Starting upload for file microsoft-deberta-v3-xsmall_seed0_foldALL_epoch12.pth\n",
      "100%|████████████████████████████████████████| 216M/216M [00:09<00:00, 22.9MB/s]\n",
      "Upload successful: microsoft-deberta-v3-xsmall_seed0_foldALL_epoch12.pth (216MB)\n",
      "Starting upload for file microsoft-deberta-v3-xsmall_seed0_foldALL_epoch4.pth\n",
      "100%|████████████████████████████████████████| 216M/216M [00:07<00:00, 29.2MB/s]\n",
      "Upload successful: microsoft-deberta-v3-xsmall_seed0_foldALL_epoch4.pth (216MB)\n",
      "Starting upload for file microsoft-deberta-v3-xsmall_seed0_foldALL_epoch9.pth\n",
      "100%|████████████████████████████████████████| 216M/216M [00:12<00:00, 18.4MB/s]\n",
      "Upload successful: microsoft-deberta-v3-xsmall_seed0_foldALL_epoch9.pth (216MB)\n",
      "Starting upload for file microsoft-deberta-v3-xsmall_seed0_foldALL_epoch10.pth\n",
      "100%|████████████████████████████████████████| 216M/216M [00:11<00:00, 20.2MB/s]\n",
      "Upload successful: microsoft-deberta-v3-xsmall_seed0_foldALL_epoch10.pth (216MB)\n",
      "Starting upload for file microsoft-deberta-v3-xsmall_seed0_foldALL_epoch14.pth\n",
      "100%|████████████████████████████████████████| 216M/216M [00:13<00:00, 16.9MB/s]\n",
      "Upload successful: microsoft-deberta-v3-xsmall_seed0_foldALL_epoch14.pth (216MB)\n",
      "Starting upload for file microsoft-deberta-v3-xsmall_seed0_foldALL_epoch13.pth\n",
      "100%|████████████████████████████████████████| 216M/216M [00:11<00:00, 19.3MB/s]\n",
      "Upload successful: microsoft-deberta-v3-xsmall_seed0_foldALL_epoch13.pth (216MB)\n",
      "Starting upload for file microsoft-deberta-v3-xsmall_seed0_foldALL_epoch1.pth\n",
      "100%|████████████████████████████████████████| 216M/216M [00:07<00:00, 30.1MB/s]\n",
      "Upload successful: microsoft-deberta-v3-xsmall_seed0_foldALL_epoch1.pth (216MB)\n",
      "Starting upload for file microsoft-deberta-v3-xsmall_seed0_foldALL_epoch6.pth\n",
      "100%|████████████████████████████████████████| 216M/216M [00:09<00:00, 23.1MB/s]\n",
      "Upload successful: microsoft-deberta-v3-xsmall_seed0_foldALL_epoch6.pth (216MB)\n",
      "Starting upload for file setting.json\n",
      "100%|████████████████████████████████████████████| 610/610 [00:01<00:00, 314B/s]\n",
      "Upload successful: setting.json (610B)\n",
      "Starting upload for file tokenizer.zip\n",
      "100%|██████████████████████████████████████| 3.04M/3.04M [00:02<00:00, 1.54MB/s]\n",
      "Upload successful: tokenizer.zip (3MB)\n",
      "Starting upload for file microsoft-deberta-v3-xsmall_seed0_fold1_best.pth\n",
      "100%|████████████████████████████████████████| 216M/216M [00:09<00:00, 22.8MB/s]\n",
      "Upload successful: microsoft-deberta-v3-xsmall_seed0_fold1_best.pth (216MB)\n",
      "Starting upload for file result_all.csv\n",
      "100%|████████████████████████████████████████████| 749/749 [00:01<00:00, 402B/s]\n",
      "Upload successful: result_all.csv (749B)\n",
      "Starting upload for file microsoft-deberta-v3-xsmall_seed0_foldALL_epoch8.pth\n",
      "100%|████████████████████████████████████████| 216M/216M [00:09<00:00, 23.5MB/s]\n",
      "Upload successful: microsoft-deberta-v3-xsmall_seed0_foldALL_epoch8.pth (216MB)\n",
      "Starting upload for file microsoft-deberta-v3-xsmall_seed0_fold0_best.pth\n",
      "100%|████████████████████████████████████████| 216M/216M [00:08<00:00, 28.3MB/s]\n",
      "Upload successful: microsoft-deberta-v3-xsmall_seed0_fold0_best.pth (216MB)\n",
      "Dataset version is being created. Please check progress at https://www.kaggle.com/takamichitoda/FB3-distribution-last\n"
     ]
    }
   ],
   "source": [
    "#!kaggle datasets create -p {CFG.OUTPUT}\n",
    "!kaggle datasets version -p {CFG.OUTPUT} -m 'all tune'"
   ]
  },
  {
   "cell_type": "code",
   "execution_count": null,
   "id": "05a58e8d-b883-4144-aa09-5466cc48a610",
   "metadata": {},
   "outputs": [],
   "source": [
    "!rm -rf {CFG.OUTPUT}"
   ]
  },
  {
   "cell_type": "code",
   "execution_count": null,
   "id": "aa81b5ac-7dbc-47d9-9161-4f134cc77bfa",
   "metadata": {},
   "outputs": [],
   "source": []
  }
 ],
 "metadata": {
  "kernelspec": {
   "display_name": "Python 3 (ipykernel)",
   "language": "python",
   "name": "python3"
  },
  "language_info": {
   "codemirror_mode": {
    "name": "ipython",
    "version": 3
   },
   "file_extension": ".py",
   "mimetype": "text/x-python",
   "name": "python",
   "nbconvert_exporter": "python",
   "pygments_lexer": "ipython3",
   "version": "3.7.12"
  }
 },
 "nbformat": 4,
 "nbformat_minor": 5
}
